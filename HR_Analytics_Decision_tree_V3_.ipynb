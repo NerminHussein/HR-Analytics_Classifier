{
  "nbformat": 4,
  "nbformat_minor": 0,
  "metadata": {
    "colab": {
      "name": "HR_Analytics_Decision_tree_V3 .ipynb",
      "provenance": [],
      "collapsed_sections": [
        "NFvenYqnWVVc",
        "dL2wOr_M1aas"
      ],
      "include_colab_link": true
    },
    "kernelspec": {
      "name": "python3",
      "display_name": "Python 3"
    },
    "language_info": {
      "name": "python"
    }
  },
  "cells": [
    {
      "cell_type": "markdown",
      "metadata": {
        "id": "view-in-github",
        "colab_type": "text"
      },
      "source": [
        "<a href=\"https://colab.research.google.com/github/NerminHussein/HR-Analytics_Classifier/blob/main/HR_Analytics_Decision_tree_V3_.ipynb\" target=\"_parent\"><img src=\"https://colab.research.google.com/assets/colab-badge.svg\" alt=\"Open In Colab\"/></a>"
      ]
    },
    {
      "cell_type": "markdown",
      "source": [
        "# **HR Analytics**\n",
        "\n",
        "\n",
        "\n",
        "\n",
        "\n",
        "\n"
      ],
      "metadata": {
        "id": "NFvenYqnWVVc"
      }
    },
    {
      "cell_type": "markdown",
      "source": [
        "# **Problem Statement**\n",
        "\n",
        "A random large company, employs at any given point of time, around 4000 employees. However, every year, around 15% of its employees leave the company and need to be replaced with the talent pool available in the job market. The management believes that this level of attrition (employees leaving, either on their own or because they got fired) is bad for the company, because of the following reasons -\n",
        "\n",
        "The former employees’ projects get delayed, which makes it difficult to meet timelines, resulting in a reputation loss among consumers and partners\n",
        "A sizeable department has to be maintained, for the purposes of recruiting new talent\n",
        "More often than not, the new employees have to be trained for the job and/or given time to acclimatise themselves to the company\n",
        "Hence, the management has contracted an HR analytics firm to understand what factors they should focus on, in order to curb attrition. In other words, they want to know what changes they should make to their workplace, in order to get most of their employees to stay. Also, they want to know which of these variables is most important and needs to be addressed right away.\n",
        "\n",
        "Since you are one of the star analysts at the firm, this project has been given to you.\n",
        "\n",
        "Goal of the case study\n",
        "You are required to model the probability of attrition using a logistic regression. The results thus obtained will be used by the management to understand what changes they should make to their workplace, in order to get most of their employees to stay.\n",
        "\n",
        "\n"
      ],
      "metadata": {
        "id": "g7WXYD8wXFNn"
      }
    },
    {
      "cell_type": "code",
      "source": [
        "# Getting the model ready by importing the libraries that will be used\n",
        "import pandas as pd                          # Dealing with Dataframes\n",
        "import numpy as np                           # Dealing with Numpy Arrays\n",
        "import glob\n",
        "import os\n",
        "from datetime import datetime,timedelta\n",
        "import matplotlib.pyplot as plt             # matplotlib is used for ploting graphs\n",
        "import seaborn as sns\n",
        "from sklearn.preprocessing import OneHotEncoder\n",
        "from sklearn.compose import make_column_transformer\n",
        "from sklearn.linear_model import LogisticRegression\n",
        "from sklearn.metrics import classification_report, confusion_matrix\n",
        "from sklearn.model_selection import train_test_split\n",
        "import itertools\n",
        "import time\n",
        "from sklearn.metrics import accuracy_score\n",
        "from sklearn import model_selection\n",
        "from sklearn.metrics import mean_squared_error\n",
        "from sklearn.tree import DecisionTreeClassifier\n",
        "import pickle"
      ],
      "metadata": {
        "id": "xOsYcsgC96oj"
      },
      "execution_count": 154,
      "outputs": []
    },
    {
      "cell_type": "markdown",
      "source": [
        "# Time Analysis"
      ],
      "metadata": {
        "id": "iecqsYndJP_h"
      }
    },
    {
      "cell_type": "code",
      "source": [
        "log_in=pd.read_csv('in_time.csv')\n",
        "log_out=pd.read_csv('out_time.csv')\n",
        "# Finding the columns where it contains only null values which indicates it being a day off for the company \n",
        "#Doing that for the log in Dataframe\n",
        "for columnName,columnValue in log_in.iteritems():\n",
        "  nu=columnValue.isnull().sum()\n",
        "  if nu==len(log_in):\n",
        "    log_in.drop([columnName],axis=1,inplace=True)\n",
        "#Doing the same for logout Dataframe\n",
        "for columnName,columnValue in log_out.iteritems():\n",
        "  nu=columnValue.isnull().sum()\n",
        "  if nu==len(log_out):\n",
        "    log_out.drop([columnName],axis=1,inplace=True)\n",
        "#Making sure the remaining null values are equal in both Dataframes\n",
        "#This could indicate day off for the employees\n",
        "nu_in=sum(log_in.isnull().sum())\n",
        "nu_out=sum(log_out.isnull().sum())\n",
        "print(nu_in==nu_out)"
      ],
      "metadata": {
        "id": "cAMMYN84_9lW",
        "colab": {
          "base_uri": "https://localhost:8080/"
        },
        "outputId": "d2507194-31b6-4862-adb0-3e0f781dd02a"
      },
      "execution_count": 155,
      "outputs": [
        {
          "output_type": "stream",
          "name": "stdout",
          "text": [
            "True\n"
          ]
        }
      ]
    },
    {
      "cell_type": "code",
      "source": [
        "#Filling the null values with 0 to compre them later\n",
        "log_in.replace(np.nan, 0)\n",
        "log_out.replace(np.nan, 0)\n",
        "#Comparing values from same column and index and if they match it will be replaced with null values\n",
        "comp_df=log_in.compare(log_out,keep_shape=True)\n",
        "#\n",
        "nu_comp=(sum(comp_df.isnull().sum())/2)-len(log_in)\n",
        "print(nu_comp==nu_in)\n"
      ],
      "metadata": {
        "colab": {
          "base_uri": "https://localhost:8080/"
        },
        "id": "R51cZYvdB9KC",
        "outputId": "0049eb09-193a-45cb-cf34-b03e4f0f6a26"
      },
      "execution_count": 156,
      "outputs": [
        {
          "output_type": "stream",
          "name": "stdout",
          "text": [
            "True\n"
          ]
        }
      ]
    },
    {
      "cell_type": "code",
      "source": [
        "#Defining some parameters\n",
        "work_hours_list=[]\n",
        "day_off_lis=[]\n",
        "g=1\n",
        "#Iterating through each row in both dataframes at the same time\n",
        "for (idx,s1),(_,s2) in zip(log_in.iterrows(),log_out.iterrows()):\n",
        "  lis=[]\n",
        "  x=0\n",
        "#Iterating through each value in that row\n",
        "  for (id,v1),(_,v2) in zip(s1.iteritems(),s2.iteritems()):\n",
        "#Dividing the time format into date and time and calculating time difference to assess hours worked\n",
        "    a=str(v1).split()\n",
        "    b=str(v2).split()\n",
        "    if len(a)==2:\n",
        "      c=datetime.strptime(a[1],'%H:%M:%S')\n",
        "      d=datetime.strptime(b[1],'%H:%M:%S')\n",
        "      tmdf=d-c\n",
        "      tmdh=timedelta.total_seconds(tmdf)/3600\n",
        "      lis.append(float(tmdh))\n",
        "    else:\n",
        "      x+=1\n",
        "#Creating two lists one holding average hours worked pe year for each employee and the other holding number of days off\n",
        "  mea=sum(lis)/len(lis)\n",
        "  work_hours_list.append(mea)\n",
        "  day_off_lis.append(x-1)\n",
        "  g+=1\n",
        "#Getting a new Dataframe from the Dictionary\n",
        "dic={'Average hours worked':work_hours_list,'Days off':day_off_lis}\n",
        "work_hours=pd.DataFrame(dic)\n",
        "\n"
      ],
      "metadata": {
        "id": "aWh9kRGhDpsC"
      },
      "execution_count": 157,
      "outputs": []
    },
    {
      "cell_type": "code",
      "source": [
        "#Adding an employee ID column to merge this data with the other dataframes\n",
        "work_hours['EmployeeID']=work_hours.index+1\n",
        "emp=work_hours.pop('EmployeeID')\n",
        "work_hours.insert(0,'EmployeeID',emp)\n"
      ],
      "metadata": {
        "id": "LCgqA2XOJmc6"
      },
      "execution_count": 158,
      "outputs": []
    },
    {
      "cell_type": "code",
      "source": [
        "work_hours.head()"
      ],
      "metadata": {
        "id": "oZwoY7ze8Hzc",
        "colab": {
          "base_uri": "https://localhost:8080/",
          "height": 206
        },
        "outputId": "b9b1cd8a-997f-4c4d-e42c-178af3a80bf5"
      },
      "execution_count": 159,
      "outputs": [
        {
          "output_type": "execute_result",
          "data": {
            "text/plain": [
              "   EmployeeID  Average hours worked  Days off\n",
              "0           1              7.373651        17\n",
              "1           2              7.718969        13\n",
              "2           3              7.013240         7\n",
              "3           4              7.193678        14\n",
              "4           5              8.006175         4"
            ],
            "text/html": [
              "\n",
              "  <div id=\"df-12c99224-6cf9-4d79-aba8-5c4f91b3a5c6\">\n",
              "    <div class=\"colab-df-container\">\n",
              "      <div>\n",
              "<style scoped>\n",
              "    .dataframe tbody tr th:only-of-type {\n",
              "        vertical-align: middle;\n",
              "    }\n",
              "\n",
              "    .dataframe tbody tr th {\n",
              "        vertical-align: top;\n",
              "    }\n",
              "\n",
              "    .dataframe thead th {\n",
              "        text-align: right;\n",
              "    }\n",
              "</style>\n",
              "<table border=\"1\" class=\"dataframe\">\n",
              "  <thead>\n",
              "    <tr style=\"text-align: right;\">\n",
              "      <th></th>\n",
              "      <th>EmployeeID</th>\n",
              "      <th>Average hours worked</th>\n",
              "      <th>Days off</th>\n",
              "    </tr>\n",
              "  </thead>\n",
              "  <tbody>\n",
              "    <tr>\n",
              "      <th>0</th>\n",
              "      <td>1</td>\n",
              "      <td>7.373651</td>\n",
              "      <td>17</td>\n",
              "    </tr>\n",
              "    <tr>\n",
              "      <th>1</th>\n",
              "      <td>2</td>\n",
              "      <td>7.718969</td>\n",
              "      <td>13</td>\n",
              "    </tr>\n",
              "    <tr>\n",
              "      <th>2</th>\n",
              "      <td>3</td>\n",
              "      <td>7.013240</td>\n",
              "      <td>7</td>\n",
              "    </tr>\n",
              "    <tr>\n",
              "      <th>3</th>\n",
              "      <td>4</td>\n",
              "      <td>7.193678</td>\n",
              "      <td>14</td>\n",
              "    </tr>\n",
              "    <tr>\n",
              "      <th>4</th>\n",
              "      <td>5</td>\n",
              "      <td>8.006175</td>\n",
              "      <td>4</td>\n",
              "    </tr>\n",
              "  </tbody>\n",
              "</table>\n",
              "</div>\n",
              "      <button class=\"colab-df-convert\" onclick=\"convertToInteractive('df-12c99224-6cf9-4d79-aba8-5c4f91b3a5c6')\"\n",
              "              title=\"Convert this dataframe to an interactive table.\"\n",
              "              style=\"display:none;\">\n",
              "        \n",
              "  <svg xmlns=\"http://www.w3.org/2000/svg\" height=\"24px\"viewBox=\"0 0 24 24\"\n",
              "       width=\"24px\">\n",
              "    <path d=\"M0 0h24v24H0V0z\" fill=\"none\"/>\n",
              "    <path d=\"M18.56 5.44l.94 2.06.94-2.06 2.06-.94-2.06-.94-.94-2.06-.94 2.06-2.06.94zm-11 1L8.5 8.5l.94-2.06 2.06-.94-2.06-.94L8.5 2.5l-.94 2.06-2.06.94zm10 10l.94 2.06.94-2.06 2.06-.94-2.06-.94-.94-2.06-.94 2.06-2.06.94z\"/><path d=\"M17.41 7.96l-1.37-1.37c-.4-.4-.92-.59-1.43-.59-.52 0-1.04.2-1.43.59L10.3 9.45l-7.72 7.72c-.78.78-.78 2.05 0 2.83L4 21.41c.39.39.9.59 1.41.59.51 0 1.02-.2 1.41-.59l7.78-7.78 2.81-2.81c.8-.78.8-2.07 0-2.86zM5.41 20L4 18.59l7.72-7.72 1.47 1.35L5.41 20z\"/>\n",
              "  </svg>\n",
              "      </button>\n",
              "      \n",
              "  <style>\n",
              "    .colab-df-container {\n",
              "      display:flex;\n",
              "      flex-wrap:wrap;\n",
              "      gap: 12px;\n",
              "    }\n",
              "\n",
              "    .colab-df-convert {\n",
              "      background-color: #E8F0FE;\n",
              "      border: none;\n",
              "      border-radius: 50%;\n",
              "      cursor: pointer;\n",
              "      display: none;\n",
              "      fill: #1967D2;\n",
              "      height: 32px;\n",
              "      padding: 0 0 0 0;\n",
              "      width: 32px;\n",
              "    }\n",
              "\n",
              "    .colab-df-convert:hover {\n",
              "      background-color: #E2EBFA;\n",
              "      box-shadow: 0px 1px 2px rgba(60, 64, 67, 0.3), 0px 1px 3px 1px rgba(60, 64, 67, 0.15);\n",
              "      fill: #174EA6;\n",
              "    }\n",
              "\n",
              "    [theme=dark] .colab-df-convert {\n",
              "      background-color: #3B4455;\n",
              "      fill: #D2E3FC;\n",
              "    }\n",
              "\n",
              "    [theme=dark] .colab-df-convert:hover {\n",
              "      background-color: #434B5C;\n",
              "      box-shadow: 0px 1px 3px 1px rgba(0, 0, 0, 0.15);\n",
              "      filter: drop-shadow(0px 1px 2px rgba(0, 0, 0, 0.3));\n",
              "      fill: #FFFFFF;\n",
              "    }\n",
              "  </style>\n",
              "\n",
              "      <script>\n",
              "        const buttonEl =\n",
              "          document.querySelector('#df-12c99224-6cf9-4d79-aba8-5c4f91b3a5c6 button.colab-df-convert');\n",
              "        buttonEl.style.display =\n",
              "          google.colab.kernel.accessAllowed ? 'block' : 'none';\n",
              "\n",
              "        async function convertToInteractive(key) {\n",
              "          const element = document.querySelector('#df-12c99224-6cf9-4d79-aba8-5c4f91b3a5c6');\n",
              "          const dataTable =\n",
              "            await google.colab.kernel.invokeFunction('convertToInteractive',\n",
              "                                                     [key], {});\n",
              "          if (!dataTable) return;\n",
              "\n",
              "          const docLinkHtml = 'Like what you see? Visit the ' +\n",
              "            '<a target=\"_blank\" href=https://colab.research.google.com/notebooks/data_table.ipynb>data table notebook</a>'\n",
              "            + ' to learn more about interactive tables.';\n",
              "          element.innerHTML = '';\n",
              "          dataTable['output_type'] = 'display_data';\n",
              "          await google.colab.output.renderOutput(dataTable, element);\n",
              "          const docLink = document.createElement('div');\n",
              "          docLink.innerHTML = docLinkHtml;\n",
              "          element.appendChild(docLink);\n",
              "        }\n",
              "      </script>\n",
              "    </div>\n",
              "  </div>\n",
              "  "
            ]
          },
          "metadata": {},
          "execution_count": 159
        }
      ]
    },
    {
      "cell_type": "markdown",
      "source": [
        "# Pre-processing"
      ],
      "metadata": {
        "id": "gthEGS-EPbg6"
      }
    },
    {
      "cell_type": "code",
      "source": [
        "employee_survey_data=pd.read_csv('employee_survey_data.csv')\n",
        "print(employee_survey_data.isnull().sum())\n"
      ],
      "metadata": {
        "colab": {
          "base_uri": "https://localhost:8080/"
        },
        "id": "XrlPyR0Bdvfr",
        "outputId": "88722308-d231-46b1-c8b3-0c88984856c9"
      },
      "execution_count": 160,
      "outputs": [
        {
          "output_type": "stream",
          "name": "stdout",
          "text": [
            "EmployeeID                  0\n",
            "EnvironmentSatisfaction    25\n",
            "JobSatisfaction            20\n",
            "WorkLifeBalance            38\n",
            "dtype: int64\n"
          ]
        }
      ]
    },
    {
      "cell_type": "code",
      "source": [
        "# Summary of Data\n",
        "print(employee_survey_data.describe())"
      ],
      "metadata": {
        "id": "_2lBFNP1iK6D",
        "colab": {
          "base_uri": "https://localhost:8080/"
        },
        "outputId": "ca5e552e-d4f7-4982-84fc-a4ecff03bcbd"
      },
      "execution_count": 161,
      "outputs": [
        {
          "output_type": "stream",
          "name": "stdout",
          "text": [
            "        EmployeeID  EnvironmentSatisfaction  JobSatisfaction  WorkLifeBalance\n",
            "count  4410.000000              4385.000000      4390.000000      4372.000000\n",
            "mean   2205.500000                 2.723603         2.728246         2.761436\n",
            "std    1273.201673                 1.092756         1.101253         0.706245\n",
            "min       1.000000                 1.000000         1.000000         1.000000\n",
            "25%    1103.250000                 2.000000         2.000000         2.000000\n",
            "50%    2205.500000                 3.000000         3.000000         3.000000\n",
            "75%    3307.750000                 4.000000         4.000000         3.000000\n",
            "max    4410.000000                 4.000000         4.000000         4.000000\n"
          ]
        }
      ]
    },
    {
      "cell_type": "code",
      "source": [
        "print(\"Mean-----------------------------------------\")\n",
        "print(employee_survey_data.mean())\n",
        "#mean       \n",
        "#EnvironmentSatisfaction       2.723603 \n",
        "#JobSatisfaction               2.728246\n",
        "#WorkLifeBalance               2.761436\n",
        "print(\"Median-----------------------------------------\")\n",
        "print(employee_survey_data.median())\n",
        "# Median\n",
        "#EnvironmentSatisfaction       3.0\n",
        "#JobSatisfaction               3.0\n",
        "#WorkLifeBalance               3.0\n",
        "\n",
        "# Mean & Median Approximatery same so we choose Median to Fill the NAN Data"
      ],
      "metadata": {
        "id": "QRnDzATXhK9S",
        "colab": {
          "base_uri": "https://localhost:8080/"
        },
        "outputId": "bd6a0e2a-6989-4ace-8e7d-836823d9532f"
      },
      "execution_count": 162,
      "outputs": [
        {
          "output_type": "stream",
          "name": "stdout",
          "text": [
            "Mean-----------------------------------------\n",
            "EmployeeID                 2205.500000\n",
            "EnvironmentSatisfaction       2.723603\n",
            "JobSatisfaction               2.728246\n",
            "WorkLifeBalance               2.761436\n",
            "dtype: float64\n",
            "Median-----------------------------------------\n",
            "EmployeeID                 2205.5\n",
            "EnvironmentSatisfaction       3.0\n",
            "JobSatisfaction               3.0\n",
            "WorkLifeBalance               3.0\n",
            "dtype: float64\n"
          ]
        }
      ]
    },
    {
      "cell_type": "code",
      "source": [
        "#Fill Null in column of EnvironmentSatisfaction with Median\n",
        "employee_survey_data['EnvironmentSatisfaction'] = employee_survey_data['EnvironmentSatisfaction'].fillna(employee_survey_data['EnvironmentSatisfaction'].median())"
      ],
      "metadata": {
        "id": "EO0r-UYCiRuo"
      },
      "execution_count": 163,
      "outputs": []
    },
    {
      "cell_type": "code",
      "source": [
        "#Fill Null in column of JobSatisfaction with Median\n",
        "employee_survey_data['JobSatisfaction'] = employee_survey_data['JobSatisfaction'].fillna(employee_survey_data['JobSatisfaction'].median())"
      ],
      "metadata": {
        "id": "gHDS_fqajIkp"
      },
      "execution_count": 164,
      "outputs": []
    },
    {
      "cell_type": "code",
      "source": [
        "#Fill Null in column of WorkLifeBalance with Median\n",
        "employee_survey_data['WorkLifeBalance'] = employee_survey_data['WorkLifeBalance'].fillna(employee_survey_data['WorkLifeBalance'].median())"
      ],
      "metadata": {
        "id": "aBfw67AqjPil"
      },
      "execution_count": 165,
      "outputs": []
    },
    {
      "cell_type": "code",
      "source": [
        "#check if found NULL Values in employee_survey_data file \n",
        "print(employee_survey_data.isnull().sum())"
      ],
      "metadata": {
        "id": "JgmoP0KDjZ9B",
        "colab": {
          "base_uri": "https://localhost:8080/"
        },
        "outputId": "2fb06dda-7e45-4f3d-ca7c-b2392e911986"
      },
      "execution_count": 166,
      "outputs": [
        {
          "output_type": "stream",
          "name": "stdout",
          "text": [
            "EmployeeID                 0\n",
            "EnvironmentSatisfaction    0\n",
            "JobSatisfaction            0\n",
            "WorkLifeBalance            0\n",
            "dtype: int64\n"
          ]
        }
      ]
    },
    {
      "cell_type": "code",
      "source": [
        "Manager_survey_data=pd.read_csv('manager_survey_data.csv')\n",
        "print(Manager_survey_data.isnull().sum())"
      ],
      "metadata": {
        "id": "rMU7oq6jcejW",
        "colab": {
          "base_uri": "https://localhost:8080/"
        },
        "outputId": "ef879a31-4c11-4419-9b6e-375de5f8fb90"
      },
      "execution_count": 167,
      "outputs": [
        {
          "output_type": "stream",
          "name": "stdout",
          "text": [
            "EmployeeID           0\n",
            "JobInvolvement       0\n",
            "PerformanceRating    0\n",
            "dtype: int64\n"
          ]
        }
      ]
    },
    {
      "cell_type": "code",
      "source": [
        "General_Data=pd.read_csv('general_data.csv')\n",
        "print(General_Data.isnull().sum())"
      ],
      "metadata": {
        "id": "sTnR7yUHjpwa",
        "colab": {
          "base_uri": "https://localhost:8080/"
        },
        "outputId": "a851f2b7-34df-4b1d-99cc-0a7442872a09"
      },
      "execution_count": 168,
      "outputs": [
        {
          "output_type": "stream",
          "name": "stdout",
          "text": [
            "Age                         0\n",
            "Attrition                   0\n",
            "BusinessTravel              0\n",
            "Department                  0\n",
            "DistanceFromHome            0\n",
            "Education                   0\n",
            "EducationField              0\n",
            "EmployeeCount               0\n",
            "EmployeeID                  0\n",
            "Gender                      0\n",
            "JobLevel                    0\n",
            "JobRole                     0\n",
            "MaritalStatus               0\n",
            "MonthlyIncome               0\n",
            "NumCompaniesWorked         19\n",
            "Over18                      0\n",
            "PercentSalaryHike           0\n",
            "StandardHours               0\n",
            "StockOptionLevel            0\n",
            "TotalWorkingYears           9\n",
            "TrainingTimesLastYear       0\n",
            "YearsAtCompany              0\n",
            "YearsSinceLastPromotion     0\n",
            "YearsWithCurrManager        0\n",
            "dtype: int64\n"
          ]
        }
      ]
    },
    {
      "cell_type": "code",
      "source": [
        "print(\"Mean-----------------------------------------\")\n",
        "print(General_Data.mean())\n",
        "#################################################\n",
        "print(\"Median-----------------------------------------\")\n",
        "print(General_Data.median())"
      ],
      "metadata": {
        "id": "p_y-XMzFqdQT",
        "colab": {
          "base_uri": "https://localhost:8080/"
        },
        "outputId": "541df9c4-3442-483c-90ed-629e8fc28a8d"
      },
      "execution_count": 169,
      "outputs": [
        {
          "output_type": "stream",
          "name": "stdout",
          "text": [
            "Mean-----------------------------------------\n",
            "Age                           36.923810\n",
            "DistanceFromHome               9.192517\n",
            "Education                      2.912925\n",
            "EmployeeCount                  1.000000\n",
            "EmployeeID                  2205.500000\n",
            "JobLevel                       2.063946\n",
            "MonthlyIncome              65029.312925\n",
            "NumCompaniesWorked             2.694830\n",
            "PercentSalaryHike             15.209524\n",
            "StandardHours                  8.000000\n",
            "StockOptionLevel               0.793878\n",
            "TotalWorkingYears             11.279936\n",
            "TrainingTimesLastYear          2.799320\n",
            "YearsAtCompany                 7.008163\n",
            "YearsSinceLastPromotion        2.187755\n",
            "YearsWithCurrManager           4.123129\n",
            "dtype: float64\n",
            "Median-----------------------------------------\n",
            "Age                           36.0\n",
            "DistanceFromHome               7.0\n",
            "Education                      3.0\n",
            "EmployeeCount                  1.0\n",
            "EmployeeID                  2205.5\n",
            "JobLevel                       2.0\n",
            "MonthlyIncome              49190.0\n",
            "NumCompaniesWorked             2.0\n",
            "PercentSalaryHike             14.0\n",
            "StandardHours                  8.0\n",
            "StockOptionLevel               1.0\n",
            "TotalWorkingYears             10.0\n",
            "TrainingTimesLastYear          3.0\n",
            "YearsAtCompany                 5.0\n",
            "YearsSinceLastPromotion        1.0\n",
            "YearsWithCurrManager           3.0\n",
            "dtype: float64\n"
          ]
        },
        {
          "output_type": "stream",
          "name": "stderr",
          "text": [
            "/usr/local/lib/python3.7/dist-packages/ipykernel_launcher.py:2: FutureWarning: Dropping of nuisance columns in DataFrame reductions (with 'numeric_only=None') is deprecated; in a future version this will raise TypeError.  Select only valid columns before calling the reduction.\n",
            "  \n",
            "/usr/local/lib/python3.7/dist-packages/ipykernel_launcher.py:5: FutureWarning: Dropping of nuisance columns in DataFrame reductions (with 'numeric_only=None') is deprecated; in a future version this will raise TypeError.  Select only valid columns before calling the reduction.\n",
            "  \"\"\"\n"
          ]
        }
      ]
    },
    {
      "cell_type": "code",
      "source": [
        "General_Data['NumCompaniesWorked'] = General_Data['NumCompaniesWorked'].fillna(General_Data['NumCompaniesWorked'].mean())"
      ],
      "metadata": {
        "id": "c3qxd8qOj0iA"
      },
      "execution_count": 170,
      "outputs": []
    },
    {
      "cell_type": "code",
      "source": [
        "General_Data['TotalWorkingYears'] = General_Data['TotalWorkingYears'].fillna(General_Data['TotalWorkingYears'].mean())"
      ],
      "metadata": {
        "id": "5-5gFLEVkY0f"
      },
      "execution_count": 171,
      "outputs": []
    },
    {
      "cell_type": "code",
      "source": [
        "print(General_Data.isnull().sum())"
      ],
      "metadata": {
        "id": "5s_G0Bbake1H",
        "colab": {
          "base_uri": "https://localhost:8080/"
        },
        "outputId": "19468a26-2018-4c55-fdf4-a33c32f60417"
      },
      "execution_count": 172,
      "outputs": [
        {
          "output_type": "stream",
          "name": "stdout",
          "text": [
            "Age                        0\n",
            "Attrition                  0\n",
            "BusinessTravel             0\n",
            "Department                 0\n",
            "DistanceFromHome           0\n",
            "Education                  0\n",
            "EducationField             0\n",
            "EmployeeCount              0\n",
            "EmployeeID                 0\n",
            "Gender                     0\n",
            "JobLevel                   0\n",
            "JobRole                    0\n",
            "MaritalStatus              0\n",
            "MonthlyIncome              0\n",
            "NumCompaniesWorked         0\n",
            "Over18                     0\n",
            "PercentSalaryHike          0\n",
            "StandardHours              0\n",
            "StockOptionLevel           0\n",
            "TotalWorkingYears          0\n",
            "TrainingTimesLastYear      0\n",
            "YearsAtCompany             0\n",
            "YearsSinceLastPromotion    0\n",
            "YearsWithCurrManager       0\n",
            "dtype: int64\n"
          ]
        }
      ]
    },
    {
      "cell_type": "code",
      "source": [
        "Merge_Employee_Manager=employee_survey_data.merge(Manager_survey_data, on='EmployeeID')"
      ],
      "metadata": {
        "id": "Rj6PVe89kkvx"
      },
      "execution_count": 173,
      "outputs": []
    },
    {
      "cell_type": "code",
      "source": [
        "Merge_Employee_Manager.head()\n"
      ],
      "metadata": {
        "id": "9OHAyvpJlePE",
        "colab": {
          "base_uri": "https://localhost:8080/",
          "height": 270
        },
        "outputId": "949d8336-35c8-450c-ce09-a3105d4f4724"
      },
      "execution_count": 174,
      "outputs": [
        {
          "output_type": "execute_result",
          "data": {
            "text/plain": [
              "   EmployeeID  EnvironmentSatisfaction  JobSatisfaction  WorkLifeBalance  \\\n",
              "0           1                      3.0              4.0              2.0   \n",
              "1           2                      3.0              2.0              4.0   \n",
              "2           3                      2.0              2.0              1.0   \n",
              "3           4                      4.0              4.0              3.0   \n",
              "4           5                      4.0              1.0              3.0   \n",
              "\n",
              "   JobInvolvement  PerformanceRating  \n",
              "0               3                  3  \n",
              "1               2                  4  \n",
              "2               3                  3  \n",
              "3               2                  3  \n",
              "4               3                  3  "
            ],
            "text/html": [
              "\n",
              "  <div id=\"df-7448841f-0858-4a8b-9d5f-a50aeec2d9d3\">\n",
              "    <div class=\"colab-df-container\">\n",
              "      <div>\n",
              "<style scoped>\n",
              "    .dataframe tbody tr th:only-of-type {\n",
              "        vertical-align: middle;\n",
              "    }\n",
              "\n",
              "    .dataframe tbody tr th {\n",
              "        vertical-align: top;\n",
              "    }\n",
              "\n",
              "    .dataframe thead th {\n",
              "        text-align: right;\n",
              "    }\n",
              "</style>\n",
              "<table border=\"1\" class=\"dataframe\">\n",
              "  <thead>\n",
              "    <tr style=\"text-align: right;\">\n",
              "      <th></th>\n",
              "      <th>EmployeeID</th>\n",
              "      <th>EnvironmentSatisfaction</th>\n",
              "      <th>JobSatisfaction</th>\n",
              "      <th>WorkLifeBalance</th>\n",
              "      <th>JobInvolvement</th>\n",
              "      <th>PerformanceRating</th>\n",
              "    </tr>\n",
              "  </thead>\n",
              "  <tbody>\n",
              "    <tr>\n",
              "      <th>0</th>\n",
              "      <td>1</td>\n",
              "      <td>3.0</td>\n",
              "      <td>4.0</td>\n",
              "      <td>2.0</td>\n",
              "      <td>3</td>\n",
              "      <td>3</td>\n",
              "    </tr>\n",
              "    <tr>\n",
              "      <th>1</th>\n",
              "      <td>2</td>\n",
              "      <td>3.0</td>\n",
              "      <td>2.0</td>\n",
              "      <td>4.0</td>\n",
              "      <td>2</td>\n",
              "      <td>4</td>\n",
              "    </tr>\n",
              "    <tr>\n",
              "      <th>2</th>\n",
              "      <td>3</td>\n",
              "      <td>2.0</td>\n",
              "      <td>2.0</td>\n",
              "      <td>1.0</td>\n",
              "      <td>3</td>\n",
              "      <td>3</td>\n",
              "    </tr>\n",
              "    <tr>\n",
              "      <th>3</th>\n",
              "      <td>4</td>\n",
              "      <td>4.0</td>\n",
              "      <td>4.0</td>\n",
              "      <td>3.0</td>\n",
              "      <td>2</td>\n",
              "      <td>3</td>\n",
              "    </tr>\n",
              "    <tr>\n",
              "      <th>4</th>\n",
              "      <td>5</td>\n",
              "      <td>4.0</td>\n",
              "      <td>1.0</td>\n",
              "      <td>3.0</td>\n",
              "      <td>3</td>\n",
              "      <td>3</td>\n",
              "    </tr>\n",
              "  </tbody>\n",
              "</table>\n",
              "</div>\n",
              "      <button class=\"colab-df-convert\" onclick=\"convertToInteractive('df-7448841f-0858-4a8b-9d5f-a50aeec2d9d3')\"\n",
              "              title=\"Convert this dataframe to an interactive table.\"\n",
              "              style=\"display:none;\">\n",
              "        \n",
              "  <svg xmlns=\"http://www.w3.org/2000/svg\" height=\"24px\"viewBox=\"0 0 24 24\"\n",
              "       width=\"24px\">\n",
              "    <path d=\"M0 0h24v24H0V0z\" fill=\"none\"/>\n",
              "    <path d=\"M18.56 5.44l.94 2.06.94-2.06 2.06-.94-2.06-.94-.94-2.06-.94 2.06-2.06.94zm-11 1L8.5 8.5l.94-2.06 2.06-.94-2.06-.94L8.5 2.5l-.94 2.06-2.06.94zm10 10l.94 2.06.94-2.06 2.06-.94-2.06-.94-.94-2.06-.94 2.06-2.06.94z\"/><path d=\"M17.41 7.96l-1.37-1.37c-.4-.4-.92-.59-1.43-.59-.52 0-1.04.2-1.43.59L10.3 9.45l-7.72 7.72c-.78.78-.78 2.05 0 2.83L4 21.41c.39.39.9.59 1.41.59.51 0 1.02-.2 1.41-.59l7.78-7.78 2.81-2.81c.8-.78.8-2.07 0-2.86zM5.41 20L4 18.59l7.72-7.72 1.47 1.35L5.41 20z\"/>\n",
              "  </svg>\n",
              "      </button>\n",
              "      \n",
              "  <style>\n",
              "    .colab-df-container {\n",
              "      display:flex;\n",
              "      flex-wrap:wrap;\n",
              "      gap: 12px;\n",
              "    }\n",
              "\n",
              "    .colab-df-convert {\n",
              "      background-color: #E8F0FE;\n",
              "      border: none;\n",
              "      border-radius: 50%;\n",
              "      cursor: pointer;\n",
              "      display: none;\n",
              "      fill: #1967D2;\n",
              "      height: 32px;\n",
              "      padding: 0 0 0 0;\n",
              "      width: 32px;\n",
              "    }\n",
              "\n",
              "    .colab-df-convert:hover {\n",
              "      background-color: #E2EBFA;\n",
              "      box-shadow: 0px 1px 2px rgba(60, 64, 67, 0.3), 0px 1px 3px 1px rgba(60, 64, 67, 0.15);\n",
              "      fill: #174EA6;\n",
              "    }\n",
              "\n",
              "    [theme=dark] .colab-df-convert {\n",
              "      background-color: #3B4455;\n",
              "      fill: #D2E3FC;\n",
              "    }\n",
              "\n",
              "    [theme=dark] .colab-df-convert:hover {\n",
              "      background-color: #434B5C;\n",
              "      box-shadow: 0px 1px 3px 1px rgba(0, 0, 0, 0.15);\n",
              "      filter: drop-shadow(0px 1px 2px rgba(0, 0, 0, 0.3));\n",
              "      fill: #FFFFFF;\n",
              "    }\n",
              "  </style>\n",
              "\n",
              "      <script>\n",
              "        const buttonEl =\n",
              "          document.querySelector('#df-7448841f-0858-4a8b-9d5f-a50aeec2d9d3 button.colab-df-convert');\n",
              "        buttonEl.style.display =\n",
              "          google.colab.kernel.accessAllowed ? 'block' : 'none';\n",
              "\n",
              "        async function convertToInteractive(key) {\n",
              "          const element = document.querySelector('#df-7448841f-0858-4a8b-9d5f-a50aeec2d9d3');\n",
              "          const dataTable =\n",
              "            await google.colab.kernel.invokeFunction('convertToInteractive',\n",
              "                                                     [key], {});\n",
              "          if (!dataTable) return;\n",
              "\n",
              "          const docLinkHtml = 'Like what you see? Visit the ' +\n",
              "            '<a target=\"_blank\" href=https://colab.research.google.com/notebooks/data_table.ipynb>data table notebook</a>'\n",
              "            + ' to learn more about interactive tables.';\n",
              "          element.innerHTML = '';\n",
              "          dataTable['output_type'] = 'display_data';\n",
              "          await google.colab.output.renderOutput(dataTable, element);\n",
              "          const docLink = document.createElement('div');\n",
              "          docLink.innerHTML = docLinkHtml;\n",
              "          element.appendChild(docLink);\n",
              "        }\n",
              "      </script>\n",
              "    </div>\n",
              "  </div>\n",
              "  "
            ]
          },
          "metadata": {},
          "execution_count": 174
        }
      ]
    },
    {
      "cell_type": "code",
      "source": [
        "print(Merge_Employee_Manager.isnull().sum())"
      ],
      "metadata": {
        "id": "hGMjIVSalfzU",
        "colab": {
          "base_uri": "https://localhost:8080/"
        },
        "outputId": "1a8f5c28-ecc9-43ce-9595-471502b7fd50"
      },
      "execution_count": 175,
      "outputs": [
        {
          "output_type": "stream",
          "name": "stdout",
          "text": [
            "EmployeeID                 0\n",
            "EnvironmentSatisfaction    0\n",
            "JobSatisfaction            0\n",
            "WorkLifeBalance            0\n",
            "JobInvolvement             0\n",
            "PerformanceRating          0\n",
            "dtype: int64\n"
          ]
        }
      ]
    },
    {
      "cell_type": "code",
      "source": [
        "Merge_EM_Data=Merge_Employee_Manager.merge(General_Data, on='EmployeeID')"
      ],
      "metadata": {
        "id": "ip4-ls63luxp"
      },
      "execution_count": 176,
      "outputs": []
    },
    {
      "cell_type": "code",
      "source": [
        "Merge_EM_Data.head(5)\n"
      ],
      "metadata": {
        "id": "jcjw7lmkmume",
        "colab": {
          "base_uri": "https://localhost:8080/",
          "height": 369
        },
        "outputId": "f4bd6e0b-2fed-4417-d349-874fe36e8905"
      },
      "execution_count": 177,
      "outputs": [
        {
          "output_type": "execute_result",
          "data": {
            "text/plain": [
              "   EmployeeID  EnvironmentSatisfaction  JobSatisfaction  WorkLifeBalance  \\\n",
              "0           1                      3.0              4.0              2.0   \n",
              "1           2                      3.0              2.0              4.0   \n",
              "2           3                      2.0              2.0              1.0   \n",
              "3           4                      4.0              4.0              3.0   \n",
              "4           5                      4.0              1.0              3.0   \n",
              "\n",
              "   JobInvolvement  PerformanceRating  Age Attrition     BusinessTravel  \\\n",
              "0               3                  3   51        No      Travel_Rarely   \n",
              "1               2                  4   31       Yes  Travel_Frequently   \n",
              "2               3                  3   32        No  Travel_Frequently   \n",
              "3               2                  3   38        No         Non-Travel   \n",
              "4               3                  3   32        No      Travel_Rarely   \n",
              "\n",
              "               Department  ...  NumCompaniesWorked  Over18 PercentSalaryHike  \\\n",
              "0                   Sales  ...                 1.0       Y                11   \n",
              "1  Research & Development  ...                 0.0       Y                23   \n",
              "2  Research & Development  ...                 1.0       Y                15   \n",
              "3  Research & Development  ...                 3.0       Y                11   \n",
              "4  Research & Development  ...                 4.0       Y                12   \n",
              "\n",
              "   StandardHours StockOptionLevel  TotalWorkingYears TrainingTimesLastYear  \\\n",
              "0              8                0                1.0                     6   \n",
              "1              8                1                6.0                     3   \n",
              "2              8                3                5.0                     2   \n",
              "3              8                3               13.0                     5   \n",
              "4              8                2                9.0                     2   \n",
              "\n",
              "  YearsAtCompany  YearsSinceLastPromotion  YearsWithCurrManager  \n",
              "0              1                        0                     0  \n",
              "1              5                        1                     4  \n",
              "2              5                        0                     3  \n",
              "3              8                        7                     5  \n",
              "4              6                        0                     4  \n",
              "\n",
              "[5 rows x 29 columns]"
            ],
            "text/html": [
              "\n",
              "  <div id=\"df-ffdddacb-2c2d-4b0c-a43e-277c7ebad57c\">\n",
              "    <div class=\"colab-df-container\">\n",
              "      <div>\n",
              "<style scoped>\n",
              "    .dataframe tbody tr th:only-of-type {\n",
              "        vertical-align: middle;\n",
              "    }\n",
              "\n",
              "    .dataframe tbody tr th {\n",
              "        vertical-align: top;\n",
              "    }\n",
              "\n",
              "    .dataframe thead th {\n",
              "        text-align: right;\n",
              "    }\n",
              "</style>\n",
              "<table border=\"1\" class=\"dataframe\">\n",
              "  <thead>\n",
              "    <tr style=\"text-align: right;\">\n",
              "      <th></th>\n",
              "      <th>EmployeeID</th>\n",
              "      <th>EnvironmentSatisfaction</th>\n",
              "      <th>JobSatisfaction</th>\n",
              "      <th>WorkLifeBalance</th>\n",
              "      <th>JobInvolvement</th>\n",
              "      <th>PerformanceRating</th>\n",
              "      <th>Age</th>\n",
              "      <th>Attrition</th>\n",
              "      <th>BusinessTravel</th>\n",
              "      <th>Department</th>\n",
              "      <th>...</th>\n",
              "      <th>NumCompaniesWorked</th>\n",
              "      <th>Over18</th>\n",
              "      <th>PercentSalaryHike</th>\n",
              "      <th>StandardHours</th>\n",
              "      <th>StockOptionLevel</th>\n",
              "      <th>TotalWorkingYears</th>\n",
              "      <th>TrainingTimesLastYear</th>\n",
              "      <th>YearsAtCompany</th>\n",
              "      <th>YearsSinceLastPromotion</th>\n",
              "      <th>YearsWithCurrManager</th>\n",
              "    </tr>\n",
              "  </thead>\n",
              "  <tbody>\n",
              "    <tr>\n",
              "      <th>0</th>\n",
              "      <td>1</td>\n",
              "      <td>3.0</td>\n",
              "      <td>4.0</td>\n",
              "      <td>2.0</td>\n",
              "      <td>3</td>\n",
              "      <td>3</td>\n",
              "      <td>51</td>\n",
              "      <td>No</td>\n",
              "      <td>Travel_Rarely</td>\n",
              "      <td>Sales</td>\n",
              "      <td>...</td>\n",
              "      <td>1.0</td>\n",
              "      <td>Y</td>\n",
              "      <td>11</td>\n",
              "      <td>8</td>\n",
              "      <td>0</td>\n",
              "      <td>1.0</td>\n",
              "      <td>6</td>\n",
              "      <td>1</td>\n",
              "      <td>0</td>\n",
              "      <td>0</td>\n",
              "    </tr>\n",
              "    <tr>\n",
              "      <th>1</th>\n",
              "      <td>2</td>\n",
              "      <td>3.0</td>\n",
              "      <td>2.0</td>\n",
              "      <td>4.0</td>\n",
              "      <td>2</td>\n",
              "      <td>4</td>\n",
              "      <td>31</td>\n",
              "      <td>Yes</td>\n",
              "      <td>Travel_Frequently</td>\n",
              "      <td>Research &amp; Development</td>\n",
              "      <td>...</td>\n",
              "      <td>0.0</td>\n",
              "      <td>Y</td>\n",
              "      <td>23</td>\n",
              "      <td>8</td>\n",
              "      <td>1</td>\n",
              "      <td>6.0</td>\n",
              "      <td>3</td>\n",
              "      <td>5</td>\n",
              "      <td>1</td>\n",
              "      <td>4</td>\n",
              "    </tr>\n",
              "    <tr>\n",
              "      <th>2</th>\n",
              "      <td>3</td>\n",
              "      <td>2.0</td>\n",
              "      <td>2.0</td>\n",
              "      <td>1.0</td>\n",
              "      <td>3</td>\n",
              "      <td>3</td>\n",
              "      <td>32</td>\n",
              "      <td>No</td>\n",
              "      <td>Travel_Frequently</td>\n",
              "      <td>Research &amp; Development</td>\n",
              "      <td>...</td>\n",
              "      <td>1.0</td>\n",
              "      <td>Y</td>\n",
              "      <td>15</td>\n",
              "      <td>8</td>\n",
              "      <td>3</td>\n",
              "      <td>5.0</td>\n",
              "      <td>2</td>\n",
              "      <td>5</td>\n",
              "      <td>0</td>\n",
              "      <td>3</td>\n",
              "    </tr>\n",
              "    <tr>\n",
              "      <th>3</th>\n",
              "      <td>4</td>\n",
              "      <td>4.0</td>\n",
              "      <td>4.0</td>\n",
              "      <td>3.0</td>\n",
              "      <td>2</td>\n",
              "      <td>3</td>\n",
              "      <td>38</td>\n",
              "      <td>No</td>\n",
              "      <td>Non-Travel</td>\n",
              "      <td>Research &amp; Development</td>\n",
              "      <td>...</td>\n",
              "      <td>3.0</td>\n",
              "      <td>Y</td>\n",
              "      <td>11</td>\n",
              "      <td>8</td>\n",
              "      <td>3</td>\n",
              "      <td>13.0</td>\n",
              "      <td>5</td>\n",
              "      <td>8</td>\n",
              "      <td>7</td>\n",
              "      <td>5</td>\n",
              "    </tr>\n",
              "    <tr>\n",
              "      <th>4</th>\n",
              "      <td>5</td>\n",
              "      <td>4.0</td>\n",
              "      <td>1.0</td>\n",
              "      <td>3.0</td>\n",
              "      <td>3</td>\n",
              "      <td>3</td>\n",
              "      <td>32</td>\n",
              "      <td>No</td>\n",
              "      <td>Travel_Rarely</td>\n",
              "      <td>Research &amp; Development</td>\n",
              "      <td>...</td>\n",
              "      <td>4.0</td>\n",
              "      <td>Y</td>\n",
              "      <td>12</td>\n",
              "      <td>8</td>\n",
              "      <td>2</td>\n",
              "      <td>9.0</td>\n",
              "      <td>2</td>\n",
              "      <td>6</td>\n",
              "      <td>0</td>\n",
              "      <td>4</td>\n",
              "    </tr>\n",
              "  </tbody>\n",
              "</table>\n",
              "<p>5 rows × 29 columns</p>\n",
              "</div>\n",
              "      <button class=\"colab-df-convert\" onclick=\"convertToInteractive('df-ffdddacb-2c2d-4b0c-a43e-277c7ebad57c')\"\n",
              "              title=\"Convert this dataframe to an interactive table.\"\n",
              "              style=\"display:none;\">\n",
              "        \n",
              "  <svg xmlns=\"http://www.w3.org/2000/svg\" height=\"24px\"viewBox=\"0 0 24 24\"\n",
              "       width=\"24px\">\n",
              "    <path d=\"M0 0h24v24H0V0z\" fill=\"none\"/>\n",
              "    <path d=\"M18.56 5.44l.94 2.06.94-2.06 2.06-.94-2.06-.94-.94-2.06-.94 2.06-2.06.94zm-11 1L8.5 8.5l.94-2.06 2.06-.94-2.06-.94L8.5 2.5l-.94 2.06-2.06.94zm10 10l.94 2.06.94-2.06 2.06-.94-2.06-.94-.94-2.06-.94 2.06-2.06.94z\"/><path d=\"M17.41 7.96l-1.37-1.37c-.4-.4-.92-.59-1.43-.59-.52 0-1.04.2-1.43.59L10.3 9.45l-7.72 7.72c-.78.78-.78 2.05 0 2.83L4 21.41c.39.39.9.59 1.41.59.51 0 1.02-.2 1.41-.59l7.78-7.78 2.81-2.81c.8-.78.8-2.07 0-2.86zM5.41 20L4 18.59l7.72-7.72 1.47 1.35L5.41 20z\"/>\n",
              "  </svg>\n",
              "      </button>\n",
              "      \n",
              "  <style>\n",
              "    .colab-df-container {\n",
              "      display:flex;\n",
              "      flex-wrap:wrap;\n",
              "      gap: 12px;\n",
              "    }\n",
              "\n",
              "    .colab-df-convert {\n",
              "      background-color: #E8F0FE;\n",
              "      border: none;\n",
              "      border-radius: 50%;\n",
              "      cursor: pointer;\n",
              "      display: none;\n",
              "      fill: #1967D2;\n",
              "      height: 32px;\n",
              "      padding: 0 0 0 0;\n",
              "      width: 32px;\n",
              "    }\n",
              "\n",
              "    .colab-df-convert:hover {\n",
              "      background-color: #E2EBFA;\n",
              "      box-shadow: 0px 1px 2px rgba(60, 64, 67, 0.3), 0px 1px 3px 1px rgba(60, 64, 67, 0.15);\n",
              "      fill: #174EA6;\n",
              "    }\n",
              "\n",
              "    [theme=dark] .colab-df-convert {\n",
              "      background-color: #3B4455;\n",
              "      fill: #D2E3FC;\n",
              "    }\n",
              "\n",
              "    [theme=dark] .colab-df-convert:hover {\n",
              "      background-color: #434B5C;\n",
              "      box-shadow: 0px 1px 3px 1px rgba(0, 0, 0, 0.15);\n",
              "      filter: drop-shadow(0px 1px 2px rgba(0, 0, 0, 0.3));\n",
              "      fill: #FFFFFF;\n",
              "    }\n",
              "  </style>\n",
              "\n",
              "      <script>\n",
              "        const buttonEl =\n",
              "          document.querySelector('#df-ffdddacb-2c2d-4b0c-a43e-277c7ebad57c button.colab-df-convert');\n",
              "        buttonEl.style.display =\n",
              "          google.colab.kernel.accessAllowed ? 'block' : 'none';\n",
              "\n",
              "        async function convertToInteractive(key) {\n",
              "          const element = document.querySelector('#df-ffdddacb-2c2d-4b0c-a43e-277c7ebad57c');\n",
              "          const dataTable =\n",
              "            await google.colab.kernel.invokeFunction('convertToInteractive',\n",
              "                                                     [key], {});\n",
              "          if (!dataTable) return;\n",
              "\n",
              "          const docLinkHtml = 'Like what you see? Visit the ' +\n",
              "            '<a target=\"_blank\" href=https://colab.research.google.com/notebooks/data_table.ipynb>data table notebook</a>'\n",
              "            + ' to learn more about interactive tables.';\n",
              "          element.innerHTML = '';\n",
              "          dataTable['output_type'] = 'display_data';\n",
              "          await google.colab.output.renderOutput(dataTable, element);\n",
              "          const docLink = document.createElement('div');\n",
              "          docLink.innerHTML = docLinkHtml;\n",
              "          element.appendChild(docLink);\n",
              "        }\n",
              "      </script>\n",
              "    </div>\n",
              "  </div>\n",
              "  "
            ]
          },
          "metadata": {},
          "execution_count": 177
        }
      ]
    },
    {
      "cell_type": "code",
      "source": [
        "print(Merge_EM_Data.isnull().sum())"
      ],
      "metadata": {
        "id": "cjDfaUYgoTGy",
        "colab": {
          "base_uri": "https://localhost:8080/"
        },
        "outputId": "cbf0bb17-fc08-437b-e714-4114a2b81e0d"
      },
      "execution_count": 178,
      "outputs": [
        {
          "output_type": "stream",
          "name": "stdout",
          "text": [
            "EmployeeID                 0\n",
            "EnvironmentSatisfaction    0\n",
            "JobSatisfaction            0\n",
            "WorkLifeBalance            0\n",
            "JobInvolvement             0\n",
            "PerformanceRating          0\n",
            "Age                        0\n",
            "Attrition                  0\n",
            "BusinessTravel             0\n",
            "Department                 0\n",
            "DistanceFromHome           0\n",
            "Education                  0\n",
            "EducationField             0\n",
            "EmployeeCount              0\n",
            "Gender                     0\n",
            "JobLevel                   0\n",
            "JobRole                    0\n",
            "MaritalStatus              0\n",
            "MonthlyIncome              0\n",
            "NumCompaniesWorked         0\n",
            "Over18                     0\n",
            "PercentSalaryHike          0\n",
            "StandardHours              0\n",
            "StockOptionLevel           0\n",
            "TotalWorkingYears          0\n",
            "TrainingTimesLastYear      0\n",
            "YearsAtCompany             0\n",
            "YearsSinceLastPromotion    0\n",
            "YearsWithCurrManager       0\n",
            "dtype: int64\n"
          ]
        }
      ]
    },
    {
      "cell_type": "code",
      "source": [
        "\n",
        "print(\"Work_Hours\",work_hours.shape)\n",
        "print(\"All_Data\",Merge_EM_Data.shape)"
      ],
      "metadata": {
        "colab": {
          "base_uri": "https://localhost:8080/"
        },
        "id": "mZcxDaiRS2pG",
        "outputId": "7c0345b7-a12e-45dc-fda4-72fe7a9b2c2f"
      },
      "execution_count": 179,
      "outputs": [
        {
          "output_type": "stream",
          "name": "stdout",
          "text": [
            "Work_Hours (4410, 3)\n",
            "All_Data (4410, 29)\n"
          ]
        }
      ]
    },
    {
      "cell_type": "code",
      "source": [
        "Merge_WH_ALLData=Merge_EM_Data.merge(work_hours, on='EmployeeID')\n",
        "Merge_WH_ALLData.shape"
      ],
      "metadata": {
        "colab": {
          "base_uri": "https://localhost:8080/"
        },
        "id": "j0z2Dbs-TegM",
        "outputId": "23b9a89a-dff0-487c-c0f3-5c2d4daae2f2"
      },
      "execution_count": 180,
      "outputs": [
        {
          "output_type": "execute_result",
          "data": {
            "text/plain": [
              "(4410, 31)"
            ]
          },
          "metadata": {},
          "execution_count": 180
        }
      ]
    },
    {
      "cell_type": "code",
      "source": [
        "Merge_WH_ALLData.info()"
      ],
      "metadata": {
        "colab": {
          "base_uri": "https://localhost:8080/"
        },
        "id": "H3elMvbtjfHS",
        "outputId": "da9bd194-3241-4c36-989e-cef4985a415d"
      },
      "execution_count": 181,
      "outputs": [
        {
          "output_type": "stream",
          "name": "stdout",
          "text": [
            "<class 'pandas.core.frame.DataFrame'>\n",
            "Int64Index: 4410 entries, 0 to 4409\n",
            "Data columns (total 31 columns):\n",
            " #   Column                   Non-Null Count  Dtype  \n",
            "---  ------                   --------------  -----  \n",
            " 0   EmployeeID               4410 non-null   int64  \n",
            " 1   EnvironmentSatisfaction  4410 non-null   float64\n",
            " 2   JobSatisfaction          4410 non-null   float64\n",
            " 3   WorkLifeBalance          4410 non-null   float64\n",
            " 4   JobInvolvement           4410 non-null   int64  \n",
            " 5   PerformanceRating        4410 non-null   int64  \n",
            " 6   Age                      4410 non-null   int64  \n",
            " 7   Attrition                4410 non-null   object \n",
            " 8   BusinessTravel           4410 non-null   object \n",
            " 9   Department               4410 non-null   object \n",
            " 10  DistanceFromHome         4410 non-null   int64  \n",
            " 11  Education                4410 non-null   int64  \n",
            " 12  EducationField           4410 non-null   object \n",
            " 13  EmployeeCount            4410 non-null   int64  \n",
            " 14  Gender                   4410 non-null   object \n",
            " 15  JobLevel                 4410 non-null   int64  \n",
            " 16  JobRole                  4410 non-null   object \n",
            " 17  MaritalStatus            4410 non-null   object \n",
            " 18  MonthlyIncome            4410 non-null   int64  \n",
            " 19  NumCompaniesWorked       4410 non-null   float64\n",
            " 20  Over18                   4410 non-null   object \n",
            " 21  PercentSalaryHike        4410 non-null   int64  \n",
            " 22  StandardHours            4410 non-null   int64  \n",
            " 23  StockOptionLevel         4410 non-null   int64  \n",
            " 24  TotalWorkingYears        4410 non-null   float64\n",
            " 25  TrainingTimesLastYear    4410 non-null   int64  \n",
            " 26  YearsAtCompany           4410 non-null   int64  \n",
            " 27  YearsSinceLastPromotion  4410 non-null   int64  \n",
            " 28  YearsWithCurrManager     4410 non-null   int64  \n",
            " 29  Average hours worked     4410 non-null   float64\n",
            " 30  Days off                 4410 non-null   int64  \n",
            "dtypes: float64(6), int64(17), object(8)\n",
            "memory usage: 1.1+ MB\n"
          ]
        }
      ]
    },
    {
      "cell_type": "code",
      "source": [
        "Merge_WH_ALLDataColumns_OBJ = Merge_WH_ALLData.select_dtypes(include = ['object']).columns\n",
        "Merge_WH_ALLDataColumns_OBJ"
      ],
      "metadata": {
        "colab": {
          "base_uri": "https://localhost:8080/"
        },
        "id": "WlTIOxvVkFyJ",
        "outputId": "17832f02-19dd-4154-835d-d5f17cc46fa5"
      },
      "execution_count": 182,
      "outputs": [
        {
          "output_type": "execute_result",
          "data": {
            "text/plain": [
              "Index(['Attrition', 'BusinessTravel', 'Department', 'EducationField', 'Gender',\n",
              "       'JobRole', 'MaritalStatus', 'Over18'],\n",
              "      dtype='object')"
            ]
          },
          "metadata": {},
          "execution_count": 182
        }
      ]
    },
    {
      "cell_type": "code",
      "source": [
        "#Making sure that the Over18 column only holds 1 value thus removing it\n",
        "cnt=0\n",
        "for i in Merge_WH_ALLData['Over18']:\n",
        "  if i=='Y':\n",
        "    cnt+=1\n",
        "print(cnt)\n",
        "#Making sure that the StandardHours column only holds 1 value thus removing it\n",
        "cnt=0\n",
        "for i in Merge_WH_ALLData['StandardHours']:\n",
        "  if i==8:\n",
        "    cnt+=1\n",
        "print(cnt)\n",
        "#Making sure that the EmployeeCount column only holds 1 value thus removing it\n",
        "cnt=0\n",
        "for i in Merge_WH_ALLData['EmployeeCount']:\n",
        "  if i==1:\n",
        "    cnt+=1\n",
        "print(cnt)\n",
        "\n",
        "\n",
        "# Dropping those three columns as they add no value to the data\n",
        "Merge_WH_ALLData.drop(['Over18','EmployeeCount','StandardHours'],axis=1,inplace=True)\n",
        "\n",
        "Merge_WH_ALLData.shape"
      ],
      "metadata": {
        "colab": {
          "base_uri": "https://localhost:8080/"
        },
        "id": "ZxOYlCgUkz66",
        "outputId": "638d8dca-3988-4ee0-b21a-97a646e341db"
      },
      "execution_count": 183,
      "outputs": [
        {
          "output_type": "stream",
          "name": "stdout",
          "text": [
            "4410\n",
            "4410\n",
            "4410\n"
          ]
        },
        {
          "output_type": "execute_result",
          "data": {
            "text/plain": [
              "(4410, 28)"
            ]
          },
          "metadata": {},
          "execution_count": 183
        }
      ]
    },
    {
      "cell_type": "code",
      "source": [
        "Merge_WH_ALLData[\"Attrition\"] .unique()\n"
      ],
      "metadata": {
        "colab": {
          "base_uri": "https://localhost:8080/"
        },
        "id": "RprQG-Cw74PL",
        "outputId": "33243b91-214a-4828-933f-87d129ca31b3"
      },
      "execution_count": 184,
      "outputs": [
        {
          "output_type": "execute_result",
          "data": {
            "text/plain": [
              "array(['No', 'Yes'], dtype=object)"
            ]
          },
          "metadata": {},
          "execution_count": 184
        }
      ]
    },
    {
      "cell_type": "code",
      "source": [
        "# Encode Gender and Attrition with 2 values where i set it with 0 & 1 \n",
        "Merge_WH_ALLData[\"Gender\"] = np.where(Merge_WH_ALLData[\"Gender\"].str.contains(\"Female\"), 1, 0)\n",
        "Merge_WH_ALLData[\"Attrition\"] = np.where(Merge_WH_ALLData[\"Attrition\"].str.contains(\"Yes\"), 1, 0)\n"
      ],
      "metadata": {
        "id": "Q_QiFPxNESfL"
      },
      "execution_count": 185,
      "outputs": []
    },
    {
      "cell_type": "code",
      "source": [
        "# #Turing all categrical columns into categorical but with numbers to be able to model it\n",
        "# need_encode=['BusinessTravel', 'Department', 'EducationField',\n",
        "#        'JobRole', 'MaritalStatus']\n",
        "# encoding_dict={}\n",
        "# for item in need_encode:\n",
        "#   unique_value=(Merge_WH_ALLData[item].unique())\n",
        "#   x=0\n",
        "#   unique_dict={}\n",
        "#   for i in unique_value:\n",
        "#     Merge_WH_ALLData[item].replace(i,x,inplace=True)\n",
        "#     unique_dict[x]=i\n",
        "#     x+=1\n",
        "# #Creating a dictionary of dictionaries that helps the user find what each number in each of those 5 columns means\n",
        "#   encoding_dict[item]=unique_dict\n",
        "\n",
        "\n",
        "# print(encoding_dict)"
      ],
      "metadata": {
        "id": "qg0pmYL9uG3A"
      },
      "execution_count": 186,
      "outputs": []
    },
    {
      "cell_type": "code",
      "source": [
        "#plt.figure(figsize = (20,5))\n",
        "#sns.countplot(x = 'NumCompaniesWorked', data = Merge_WH_ALLData)"
      ],
      "metadata": {
        "id": "DV6nOVeF3d_m"
      },
      "execution_count": 187,
      "outputs": []
    },
    {
      "cell_type": "code",
      "source": [
        "#plt.figure(figsize = (500,50))\n",
        "#sns.displot(x = 'Department', data = Merge_WH_ALLData)"
      ],
      "metadata": {
        "id": "YLGcK5dZ4Rfm"
      },
      "execution_count": 188,
      "outputs": []
    },
    {
      "cell_type": "code",
      "source": [
        "#sns.countplot(x = 'BusinessTravel', data = Merge_WH_ALLData, palette = 'Set2')"
      ],
      "metadata": {
        "id": "Rex34hIR483F"
      },
      "execution_count": 189,
      "outputs": []
    },
    {
      "cell_type": "code",
      "source": [
        "#sns.heatmap(Merge_EM_Data.corr(), annot=True)"
      ],
      "metadata": {
        "id": "yuaX8b7S49IH"
      },
      "execution_count": 190,
      "outputs": []
    },
    {
      "cell_type": "code",
      "source": [
        "Merge_WH_ALLData.drop(['EmployeeID'],axis=1,inplace=True)"
      ],
      "metadata": {
        "id": "ZEWWtbpnLtG-"
      },
      "execution_count": 191,
      "outputs": []
    },
    {
      "cell_type": "code",
      "source": [
        "transformer = make_column_transformer(\n",
        "    (OneHotEncoder(), ['BusinessTravel', 'Department', 'EducationField',\n",
        "       'JobRole', 'MaritalStatus']),\n",
        "    remainder='passthrough')\n",
        "\n",
        "transformed = transformer.fit_transform(Merge_WH_ALLData)\n",
        "transformed_df = pd.DataFrame(transformed, columns=transformer.get_feature_names())\n",
        "print(transformed_df.info())"
      ],
      "metadata": {
        "colab": {
          "base_uri": "https://localhost:8080/"
        },
        "id": "spXXLU7-JNk6",
        "outputId": "66feef10-987e-4566-fa4e-7a6be703aaf2"
      },
      "execution_count": 192,
      "outputs": [
        {
          "output_type": "stream",
          "name": "stdout",
          "text": [
            "<class 'pandas.core.frame.DataFrame'>\n",
            "RangeIndex: 4410 entries, 0 to 4409\n",
            "Data columns (total 46 columns):\n",
            " #   Column                                       Non-Null Count  Dtype  \n",
            "---  ------                                       --------------  -----  \n",
            " 0   onehotencoder__x0_Non-Travel                 4410 non-null   float64\n",
            " 1   onehotencoder__x0_Travel_Frequently          4410 non-null   float64\n",
            " 2   onehotencoder__x0_Travel_Rarely              4410 non-null   float64\n",
            " 3   onehotencoder__x1_Human Resources            4410 non-null   float64\n",
            " 4   onehotencoder__x1_Research & Development     4410 non-null   float64\n",
            " 5   onehotencoder__x1_Sales                      4410 non-null   float64\n",
            " 6   onehotencoder__x2_Human Resources            4410 non-null   float64\n",
            " 7   onehotencoder__x2_Life Sciences              4410 non-null   float64\n",
            " 8   onehotencoder__x2_Marketing                  4410 non-null   float64\n",
            " 9   onehotencoder__x2_Medical                    4410 non-null   float64\n",
            " 10  onehotencoder__x2_Other                      4410 non-null   float64\n",
            " 11  onehotencoder__x2_Technical Degree           4410 non-null   float64\n",
            " 12  onehotencoder__x3_Healthcare Representative  4410 non-null   float64\n",
            " 13  onehotencoder__x3_Human Resources            4410 non-null   float64\n",
            " 14  onehotencoder__x3_Laboratory Technician      4410 non-null   float64\n",
            " 15  onehotencoder__x3_Manager                    4410 non-null   float64\n",
            " 16  onehotencoder__x3_Manufacturing Director     4410 non-null   float64\n",
            " 17  onehotencoder__x3_Research Director          4410 non-null   float64\n",
            " 18  onehotencoder__x3_Research Scientist         4410 non-null   float64\n",
            " 19  onehotencoder__x3_Sales Executive            4410 non-null   float64\n",
            " 20  onehotencoder__x3_Sales Representative       4410 non-null   float64\n",
            " 21  onehotencoder__x4_Divorced                   4410 non-null   float64\n",
            " 22  onehotencoder__x4_Married                    4410 non-null   float64\n",
            " 23  onehotencoder__x4_Single                     4410 non-null   float64\n",
            " 24  EnvironmentSatisfaction                      4410 non-null   float64\n",
            " 25  JobSatisfaction                              4410 non-null   float64\n",
            " 26  WorkLifeBalance                              4410 non-null   float64\n",
            " 27  JobInvolvement                               4410 non-null   float64\n",
            " 28  PerformanceRating                            4410 non-null   float64\n",
            " 29  Age                                          4410 non-null   float64\n",
            " 30  Attrition                                    4410 non-null   float64\n",
            " 31  DistanceFromHome                             4410 non-null   float64\n",
            " 32  Education                                    4410 non-null   float64\n",
            " 33  Gender                                       4410 non-null   float64\n",
            " 34  JobLevel                                     4410 non-null   float64\n",
            " 35  MonthlyIncome                                4410 non-null   float64\n",
            " 36  NumCompaniesWorked                           4410 non-null   float64\n",
            " 37  PercentSalaryHike                            4410 non-null   float64\n",
            " 38  StockOptionLevel                             4410 non-null   float64\n",
            " 39  TotalWorkingYears                            4410 non-null   float64\n",
            " 40  TrainingTimesLastYear                        4410 non-null   float64\n",
            " 41  YearsAtCompany                               4410 non-null   float64\n",
            " 42  YearsSinceLastPromotion                      4410 non-null   float64\n",
            " 43  YearsWithCurrManager                         4410 non-null   float64\n",
            " 44  Average hours worked                         4410 non-null   float64\n",
            " 45  Days off                                     4410 non-null   float64\n",
            "dtypes: float64(46)\n",
            "memory usage: 1.5 MB\n",
            "None\n"
          ]
        },
        {
          "output_type": "stream",
          "name": "stderr",
          "text": [
            "/usr/local/lib/python3.7/dist-packages/sklearn/utils/deprecation.py:87: FutureWarning: Function get_feature_names is deprecated; get_feature_names is deprecated in 1.0 and will be removed in 1.2. Please use get_feature_names_out instead.\n",
            "  warnings.warn(msg, category=FutureWarning)\n"
          ]
        }
      ]
    },
    {
      "cell_type": "markdown",
      "source": [
        "# Logistic Regression"
      ],
      "metadata": {
        "id": "dL2wOr_M1aas"
      }
    },
    {
      "cell_type": "code",
      "source": [
        "# Data=Merge_WH_ALLData\n",
        "# columnName=[]\n",
        "# for col,v in Data.iteritems():\n",
        "#   columnName.append(col)\n",
        "# columnName.remove('Attrition')\n",
        "# x = Data.loc[:, columnName]\n",
        "# y = Data.loc[:, ['Attrition']]\n",
        "# X_train, X_test, y_train, y_test = train_test_split(x, y, random_state=0, train_size = .8)\n",
        "# model = LogisticRegression(solver='liblinear', random_state=0)\n",
        "# model.fit(X_train, y_train)\n",
        "# sco_new=model.score(X_test, y_test)\n",
        "# len(columnName)"
      ],
      "metadata": {
        "id": "mBlNnNE11eST"
      },
      "execution_count": 193,
      "outputs": []
    },
    {
      "cell_type": "code",
      "source": [
        "# sco_old=0\n",
        "# m=[]\n",
        "# r=26\n",
        "# while sco_new>=sco_old:\n",
        "#   sco_old=sco_new\n",
        "#   sco_new=0\n",
        "#   for s in itertools.combinations(columnName,r):\n",
        "#     x = Data.loc[:, s]\n",
        "#     y = Data.loc[:, ['Attrition']]\n",
        "#     X_train, X_test, y_train, y_test = train_test_split(x, y, random_state=0, train_size = .8)\n",
        "#     model = LogisticRegression(solver='liblinear', random_state=0)\n",
        "#     model.fit(X_train, y_train)\n",
        "#     a=model.score(X_test, y_test)\n",
        "#     if a>sco_new:\n",
        "#       sco_new=a\n",
        "#       lis=s\n",
        "#   for i in columnName:\n",
        "#     if i in lis:\n",
        "#       l=1\n",
        "#     else:\n",
        "#       columnName.remove(i)\n",
        "#       m.append(i)\n",
        "#   r+=-1\n",
        "# print(m)"
      ],
      "metadata": {
        "id": "a0i-L4Nw6HRp"
      },
      "execution_count": 194,
      "outputs": []
    },
    {
      "cell_type": "code",
      "source": [
        "\n",
        "# print(m)\n",
        "# print(len(columnName))"
      ],
      "metadata": {
        "id": "yIC8TVkV-Tm0"
      },
      "execution_count": 195,
      "outputs": []
    },
    {
      "cell_type": "code",
      "source": [
        "# for i in columnName:\n",
        "#   if i in lis:\n",
        "#     l=1\n",
        "#   else:\n",
        "#     print(i)"
      ],
      "metadata": {
        "id": "QB7TC-15NBtT"
      },
      "execution_count": 196,
      "outputs": []
    },
    {
      "cell_type": "markdown",
      "source": [
        "# Decision Tree Model"
      ],
      "metadata": {
        "id": "I9DphfQRXtOZ"
      }
    },
    {
      "cell_type": "code",
      "source": [
        "Data=transformed_df\n",
        "Data.corr()\n",
        "plt.figure(figsize = (18,12))\n",
        "sns.heatmap(Data.corr())\n"
      ],
      "metadata": {
        "colab": {
          "base_uri": "https://localhost:8080/",
          "height": 521
        },
        "id": "ONA4uWbd2aMJ",
        "outputId": "0da4a0c9-6b56-4da0-c6ea-94525158f72b"
      },
      "execution_count": 197,
      "outputs": [
        {
          "output_type": "execute_result",
          "data": {
            "text/plain": [
              "<matplotlib.axes._subplots.AxesSubplot at 0x7f83f3c0eb10>"
            ]
          },
          "metadata": {},
          "execution_count": 197
        },
        {
          "output_type": "display_data",
          "data": {
            "text/plain": [
              "<Figure size 1296x864 with 2 Axes>"
            ],
            "image/png": "[encoded data removed]"
          },
          "metadata": {
            "needs_background": "light"
          }
        }
      ]
    },
    {
      "cell_type": "code",
      "source": [
        "Data=Merge_WH_ALLData\n",
        "Data.corr()"
      ],
      "metadata": {
        "colab": {
          "base_uri": "https://localhost:8080/",
          "height": 867
        },
        "id": "q0i4BOU-Wxq-",
        "outputId": "36d3bb75-efeb-4b75-f9f0-2ba8ece037e3"
      },
      "execution_count": 198,
      "outputs": [
        {
          "output_type": "execute_result",
          "data": {
            "text/plain": [
              "                         EnvironmentSatisfaction  JobSatisfaction  \\\n",
              "EnvironmentSatisfaction                 1.000000        -0.006036   \n",
              "JobSatisfaction                        -0.006036         1.000000   \n",
              "WorkLifeBalance                         0.023769        -0.018527   \n",
              "JobInvolvement                          0.015410         0.004006   \n",
              "PerformanceRating                       0.014039         0.043147   \n",
              "Age                                     0.009699        -0.003003   \n",
              "Attrition                              -0.101625        -0.103068   \n",
              "DistanceFromHome                        0.020113        -0.011213   \n",
              "Education                              -0.045636        -0.004612   \n",
              "Gender                                  0.023277        -0.015923   \n",
              "JobLevel                               -0.024540        -0.018596   \n",
              "MonthlyIncome                          -0.005747         0.004716   \n",
              "NumCompaniesWorked                      0.013133        -0.055701   \n",
              "PercentSalaryHike                       0.000850         0.030626   \n",
              "StockOptionLevel                       -0.004842         0.039757   \n",
              "TotalWorkingYears                      -0.002451        -0.016620   \n",
              "TrainingTimesLastYear                   0.017885        -0.021522   \n",
              "YearsAtCompany                          0.000098        -0.002098   \n",
              "YearsSinceLastPromotion                 0.015152        -0.016081   \n",
              "YearsWithCurrManager                   -0.006054        -0.024653   \n",
              "Average hours worked                    0.058744         0.015954   \n",
              "Days off                               -0.033371        -0.003319   \n",
              "\n",
              "                         WorkLifeBalance  JobInvolvement  PerformanceRating  \\\n",
              "EnvironmentSatisfaction         0.023769        0.015410           0.014039   \n",
              "JobSatisfaction                -0.018527        0.004006           0.043147   \n",
              "WorkLifeBalance                 1.000000       -0.018435          -0.022920   \n",
              "JobInvolvement                 -0.018435        1.000000           0.010699   \n",
              "PerformanceRating              -0.022920        0.010699           1.000000   \n",
              "Age                            -0.020524        0.018196          -0.025563   \n",
              "Attrition                      -0.062975       -0.015588           0.023403   \n",
              "DistanceFromHome                0.008305       -0.001837           0.036418   \n",
              "Education                      -0.005610       -0.018279          -0.035591   \n",
              "Gender                          0.032373       -0.025768          -0.051586   \n",
              "JobLevel                       -0.027763       -0.012630          -0.002474   \n",
              "MonthlyIncome                   0.003705        0.023346           0.016093   \n",
              "NumCompaniesWorked             -0.008891        0.027921           0.017802   \n",
              "PercentSalaryHike              -0.040305       -0.004658           0.773550   \n",
              "StockOptionLevel               -0.022701        0.010295          -0.036348   \n",
              "TotalWorkingYears               0.001367        0.006696          -0.001394   \n",
              "TrainingTimesLastYear          -0.014834       -0.010144          -0.022895   \n",
              "YearsAtCompany                  0.014343        0.008314          -0.011038   \n",
              "YearsSinceLastPromotion         0.009389        0.025395          -0.020159   \n",
              "YearsWithCurrManager            0.007358       -0.001372          -0.009426   \n",
              "Average hours worked           -0.030071       -0.020676           0.066911   \n",
              "Days off                       -0.002912        0.014483           0.003642   \n",
              "\n",
              "                              Age  Attrition  DistanceFromHome  Education  \\\n",
              "EnvironmentSatisfaction  0.009699  -0.101625          0.020113  -0.045636   \n",
              "JobSatisfaction         -0.003003  -0.103068         -0.011213  -0.004612   \n",
              "WorkLifeBalance         -0.020524  -0.062975          0.008305  -0.005610   \n",
              "JobInvolvement           0.018196  -0.015588         -0.001837  -0.018279   \n",
              "PerformanceRating       -0.025563   0.023403          0.036418  -0.035591   \n",
              "Age                      1.000000  -0.159205          0.006963  -0.035706   \n",
              "Attrition               -0.159205   1.000000         -0.009730  -0.015111   \n",
              "DistanceFromHome         0.006963  -0.009730          1.000000  -0.008638   \n",
              "Education               -0.035706  -0.015111         -0.008638   1.000000   \n",
              "Gender                   0.039352  -0.018125          0.044173   0.016547   \n",
              "JobLevel                -0.002884  -0.010290         -0.037329   0.045746   \n",
              "MonthlyIncome           -0.044314  -0.031176         -0.021607   0.006410   \n",
              "NumCompaniesWorked       0.298528   0.042232         -0.013818  -0.016219   \n",
              "PercentSalaryHike       -0.033137   0.032533          0.038125  -0.040531   \n",
              "StockOptionLevel        -0.031753  -0.006839          0.011169   0.001261   \n",
              "TotalWorkingYears        0.680419  -0.170111          0.009361  -0.010712   \n",
              "TrainingTimesLastYear   -0.027308  -0.049431         -0.009001   0.010472   \n",
              "YearsAtCompany           0.311309  -0.134392          0.031684   0.006080   \n",
              "YearsSinceLastPromotion  0.216513  -0.033019          0.002290   0.022490   \n",
              "YearsWithCurrManager     0.202089  -0.156199          0.021584   0.005358   \n",
              "Average hours worked     0.000258   0.201688          0.009429   0.002229   \n",
              "Days off                 0.007020  -0.043517         -0.009141   0.006927   \n",
              "\n",
              "                           Gender  ...  NumCompaniesWorked  PercentSalaryHike  \\\n",
              "EnvironmentSatisfaction  0.023277  ...            0.013133           0.000850   \n",
              "JobSatisfaction         -0.015923  ...           -0.055701           0.030626   \n",
              "WorkLifeBalance          0.032373  ...           -0.008891          -0.040305   \n",
              "JobInvolvement          -0.025768  ...            0.027921          -0.004658   \n",
              "PerformanceRating       -0.051586  ...            0.017802           0.773550   \n",
              "Age                      0.039352  ...            0.298528          -0.033137   \n",
              "Attrition               -0.018125  ...            0.042232           0.032533   \n",
              "DistanceFromHome         0.044173  ...           -0.013818           0.038125   \n",
              "Education                0.016547  ...           -0.016219          -0.040531   \n",
              "Gender                   1.000000  ...            0.066796          -0.011841   \n",
              "JobLevel                 0.026854  ...           -0.009844           0.010973   \n",
              "MonthlyIncome           -0.007530  ...           -0.020710           0.004325   \n",
              "NumCompaniesWorked       0.066796  ...            1.000000           0.030825   \n",
              "PercentSalaryHike       -0.011841  ...            0.030825           1.000000   \n",
              "StockOptionLevel        -0.019237  ...            0.017130           0.012548   \n",
              "TotalWorkingYears        0.027571  ...            0.238052          -0.018717   \n",
              "TrainingTimesLastYear    0.030167  ...           -0.032239          -0.037392   \n",
              "YearsAtCompany           0.017277  ...           -0.117820          -0.029707   \n",
              "YearsSinceLastPromotion  0.021812  ...           -0.036618          -0.029542   \n",
              "YearsWithCurrManager    -0.004438  ...           -0.109480          -0.040864   \n",
              "Average hours worked    -0.003048  ...           -0.014909           0.029178   \n",
              "Days off                -0.000252  ...            0.011344           0.009710   \n",
              "\n",
              "                         StockOptionLevel  TotalWorkingYears  \\\n",
              "EnvironmentSatisfaction         -0.004842          -0.002451   \n",
              "JobSatisfaction                  0.039757          -0.016620   \n",
              "WorkLifeBalance                 -0.022701           0.001367   \n",
              "JobInvolvement                   0.010295           0.006696   \n",
              "PerformanceRating               -0.036348          -0.001394   \n",
              "Age                             -0.031753           0.680419   \n",
              "Attrition                       -0.006839          -0.170111   \n",
              "DistanceFromHome                 0.011169           0.009361   \n",
              "Education                        0.001261          -0.010712   \n",
              "Gender                          -0.019237           0.027571   \n",
              "JobLevel                         0.000993          -0.036934   \n",
              "MonthlyIncome                    0.026930          -0.033758   \n",
              "NumCompaniesWorked               0.017130           0.238052   \n",
              "PercentSalaryHike                0.012548          -0.018717   \n",
              "StockOptionLevel                 1.000000           0.002693   \n",
              "TotalWorkingYears                0.002693           1.000000   \n",
              "TrainingTimesLastYear           -0.069902          -0.040705   \n",
              "YearsAtCompany                   0.007886           0.626876   \n",
              "YearsSinceLastPromotion          0.019063           0.403995   \n",
              "YearsWithCurrManager             0.017757           0.458425   \n",
              "Average hours worked            -0.012894          -0.012428   \n",
              "Days off                        -0.022115           0.003818   \n",
              "\n",
              "                         TrainingTimesLastYear  YearsAtCompany  \\\n",
              "EnvironmentSatisfaction               0.017885        0.000098   \n",
              "JobSatisfaction                      -0.021522       -0.002098   \n",
              "WorkLifeBalance                      -0.014834        0.014343   \n",
              "JobInvolvement                       -0.010144        0.008314   \n",
              "PerformanceRating                    -0.022895       -0.011038   \n",
              "Age                                  -0.027308        0.311309   \n",
              "Attrition                            -0.049431       -0.134392   \n",
              "DistanceFromHome                     -0.009001        0.031684   \n",
              "Education                             0.010472        0.006080   \n",
              "Gender                                0.030167        0.017277   \n",
              "JobLevel                             -0.032500       -0.064219   \n",
              "MonthlyIncome                         0.050112        0.000995   \n",
              "NumCompaniesWorked                   -0.032239       -0.117820   \n",
              "PercentSalaryHike                    -0.037392       -0.029707   \n",
              "StockOptionLevel                     -0.069902        0.007886   \n",
              "TotalWorkingYears                    -0.040705        0.626876   \n",
              "TrainingTimesLastYear                 1.000000       -0.007894   \n",
              "YearsAtCompany                       -0.007894        1.000000   \n",
              "YearsSinceLastPromotion               0.016121        0.618409   \n",
              "YearsWithCurrManager                 -0.013270        0.769212   \n",
              "Average hours worked                 -0.008219       -0.022558   \n",
              "Days off                             -0.002327        0.001645   \n",
              "\n",
              "                         YearsSinceLastPromotion  YearsWithCurrManager  \\\n",
              "EnvironmentSatisfaction                 0.015152             -0.006054   \n",
              "JobSatisfaction                        -0.016081             -0.024653   \n",
              "WorkLifeBalance                         0.009389              0.007358   \n",
              "JobInvolvement                          0.025395             -0.001372   \n",
              "PerformanceRating                      -0.020159             -0.009426   \n",
              "Age                                     0.216513              0.202089   \n",
              "Attrition                              -0.033019             -0.156199   \n",
              "DistanceFromHome                        0.002290              0.021584   \n",
              "Education                               0.022490              0.005358   \n",
              "Gender                                  0.021812             -0.004438   \n",
              "JobLevel                               -0.060811             -0.055251   \n",
              "MonthlyIncome                           0.065219              0.024304   \n",
              "NumCompaniesWorked                     -0.036618             -0.109480   \n",
              "PercentSalaryHike                      -0.029542             -0.040864   \n",
              "StockOptionLevel                        0.019063              0.017757   \n",
              "TotalWorkingYears                       0.403995              0.458425   \n",
              "TrainingTimesLastYear                   0.016121             -0.013270   \n",
              "YearsAtCompany                          0.618409              0.769212   \n",
              "YearsSinceLastPromotion                 1.000000              0.510224   \n",
              "YearsWithCurrManager                    0.510224              1.000000   \n",
              "Average hours worked                   -0.010062             -0.037261   \n",
              "Days off                                0.008042             -0.004100   \n",
              "\n",
              "                         Average hours worked  Days off  \n",
              "EnvironmentSatisfaction              0.058744 -0.033371  \n",
              "JobSatisfaction                      0.015954 -0.003319  \n",
              "WorkLifeBalance                     -0.030071 -0.002912  \n",
              "JobInvolvement                      -0.020676  0.014483  \n",
              "PerformanceRating                    0.066911  0.003642  \n",
              "Age                                  0.000258  0.007020  \n",
              "Attrition                            0.201688 -0.043517  \n",
              "DistanceFromHome                     0.009429 -0.009141  \n",
              "Education                            0.002229  0.006927  \n",
              "Gender                              -0.003048 -0.000252  \n",
              "JobLevel                             0.012559  0.010941  \n",
              "MonthlyIncome                       -0.012223  0.004751  \n",
              "NumCompaniesWorked                  -0.014909  0.011344  \n",
              "PercentSalaryHike                    0.029178  0.009710  \n",
              "StockOptionLevel                    -0.012894 -0.022115  \n",
              "TotalWorkingYears                   -0.012428  0.003818  \n",
              "TrainingTimesLastYear               -0.008219 -0.002327  \n",
              "YearsAtCompany                      -0.022558  0.001645  \n",
              "YearsSinceLastPromotion             -0.010062  0.008042  \n",
              "YearsWithCurrManager                -0.037261 -0.004100  \n",
              "Average hours worked                 1.000000 -0.250367  \n",
              "Days off                            -0.250367  1.000000  \n",
              "\n",
              "[22 rows x 22 columns]"
            ],
            "text/html": [
              "\n",
              "  <div id=\"df-e30b8d52-34a0-48a9-9075-57b033af0ec1\">\n",
              "    <div class=\"colab-df-container\">\n",
              "      <div>\n",
              "<style scoped>\n",
              "    .dataframe tbody tr th:only-of-type {\n",
              "        vertical-align: middle;\n",
              "    }\n",
              "\n",
              "    .dataframe tbody tr th {\n",
              "        vertical-align: top;\n",
              "    }\n",
              "\n",
              "    .dataframe thead th {\n",
              "        text-align: right;\n",
              "    }\n",
              "</style>\n",
              "<table border=\"1\" class=\"dataframe\">\n",
              "  <thead>\n",
              "    <tr style=\"text-align: right;\">\n",
              "      <th></th>\n",
              "      <th>EnvironmentSatisfaction</th>\n",
              "      <th>JobSatisfaction</th>\n",
              "      <th>WorkLifeBalance</th>\n",
              "      <th>JobInvolvement</th>\n",
              "      <th>PerformanceRating</th>\n",
              "      <th>Age</th>\n",
              "      <th>Attrition</th>\n",
              "      <th>DistanceFromHome</th>\n",
              "      <th>Education</th>\n",
              "      <th>Gender</th>\n",
              "      <th>...</th>\n",
              "      <th>NumCompaniesWorked</th>\n",
              "      <th>PercentSalaryHike</th>\n",
              "      <th>StockOptionLevel</th>\n",
              "      <th>TotalWorkingYears</th>\n",
              "      <th>TrainingTimesLastYear</th>\n",
              "      <th>YearsAtCompany</th>\n",
              "      <th>YearsSinceLastPromotion</th>\n",
              "      <th>YearsWithCurrManager</th>\n",
              "      <th>Average hours worked</th>\n",
              "      <th>Days off</th>\n",
              "    </tr>\n",
              "  </thead>\n",
              "  <tbody>\n",
              "    <tr>\n",
              "      <th>EnvironmentSatisfaction</th>\n",
              "      <td>1.000000</td>\n",
              "      <td>-0.006036</td>\n",
              "      <td>0.023769</td>\n",
              "      <td>0.015410</td>\n",
              "      <td>0.014039</td>\n",
              "      <td>0.009699</td>\n",
              "      <td>-0.101625</td>\n",
              "      <td>0.020113</td>\n",
              "      <td>-0.045636</td>\n",
              "      <td>0.023277</td>\n",
              "      <td>...</td>\n",
              "      <td>0.013133</td>\n",
              "      <td>0.000850</td>\n",
              "      <td>-0.004842</td>\n",
              "      <td>-0.002451</td>\n",
              "      <td>0.017885</td>\n",
              "      <td>0.000098</td>\n",
              "      <td>0.015152</td>\n",
              "      <td>-0.006054</td>\n",
              "      <td>0.058744</td>\n",
              "      <td>-0.033371</td>\n",
              "    </tr>\n",
              "    <tr>\n",
              "      <th>JobSatisfaction</th>\n",
              "      <td>-0.006036</td>\n",
              "      <td>1.000000</td>\n",
              "      <td>-0.018527</td>\n",
              "      <td>0.004006</td>\n",
              "      <td>0.043147</td>\n",
              "      <td>-0.003003</td>\n",
              "      <td>-0.103068</td>\n",
              "      <td>-0.011213</td>\n",
              "      <td>-0.004612</td>\n",
              "      <td>-0.015923</td>\n",
              "      <td>...</td>\n",
              "      <td>-0.055701</td>\n",
              "      <td>0.030626</td>\n",
              "      <td>0.039757</td>\n",
              "      <td>-0.016620</td>\n",
              "      <td>-0.021522</td>\n",
              "      <td>-0.002098</td>\n",
              "      <td>-0.016081</td>\n",
              "      <td>-0.024653</td>\n",
              "      <td>0.015954</td>\n",
              "      <td>-0.003319</td>\n",
              "    </tr>\n",
              "    <tr>\n",
              "      <th>WorkLifeBalance</th>\n",
              "      <td>0.023769</td>\n",
              "      <td>-0.018527</td>\n",
              "      <td>1.000000</td>\n",
              "      <td>-0.018435</td>\n",
              "      <td>-0.022920</td>\n",
              "      <td>-0.020524</td>\n",
              "      <td>-0.062975</td>\n",
              "      <td>0.008305</td>\n",
              "      <td>-0.005610</td>\n",
              "      <td>0.032373</td>\n",
              "      <td>...</td>\n",
              "      <td>-0.008891</td>\n",
              "      <td>-0.040305</td>\n",
              "      <td>-0.022701</td>\n",
              "      <td>0.001367</td>\n",
              "      <td>-0.014834</td>\n",
              "      <td>0.014343</td>\n",
              "      <td>0.009389</td>\n",
              "      <td>0.007358</td>\n",
              "      <td>-0.030071</td>\n",
              "      <td>-0.002912</td>\n",
              "    </tr>\n",
              "    <tr>\n",
              "      <th>JobInvolvement</th>\n",
              "      <td>0.015410</td>\n",
              "      <td>0.004006</td>\n",
              "      <td>-0.018435</td>\n",
              "      <td>1.000000</td>\n",
              "      <td>0.010699</td>\n",
              "      <td>0.018196</td>\n",
              "      <td>-0.015588</td>\n",
              "      <td>-0.001837</td>\n",
              "      <td>-0.018279</td>\n",
              "      <td>-0.025768</td>\n",
              "      <td>...</td>\n",
              "      <td>0.027921</td>\n",
              "      <td>-0.004658</td>\n",
              "      <td>0.010295</td>\n",
              "      <td>0.006696</td>\n",
              "      <td>-0.010144</td>\n",
              "      <td>0.008314</td>\n",
              "      <td>0.025395</td>\n",
              "      <td>-0.001372</td>\n",
              "      <td>-0.020676</td>\n",
              "      <td>0.014483</td>\n",
              "    </tr>\n",
              "    <tr>\n",
              "      <th>PerformanceRating</th>\n",
              "      <td>0.014039</td>\n",
              "      <td>0.043147</td>\n",
              "      <td>-0.022920</td>\n",
              "      <td>0.010699</td>\n",
              "      <td>1.000000</td>\n",
              "      <td>-0.025563</td>\n",
              "      <td>0.023403</td>\n",
              "      <td>0.036418</td>\n",
              "      <td>-0.035591</td>\n",
              "      <td>-0.051586</td>\n",
              "      <td>...</td>\n",
              "      <td>0.017802</td>\n",
              "      <td>0.773550</td>\n",
              "      <td>-0.036348</td>\n",
              "      <td>-0.001394</td>\n",
              "      <td>-0.022895</td>\n",
              "      <td>-0.011038</td>\n",
              "      <td>-0.020159</td>\n",
              "      <td>-0.009426</td>\n",
              "      <td>0.066911</td>\n",
              "      <td>0.003642</td>\n",
              "    </tr>\n",
              "    <tr>\n",
              "      <th>Age</th>\n",
              "      <td>0.009699</td>\n",
              "      <td>-0.003003</td>\n",
              "      <td>-0.020524</td>\n",
              "      <td>0.018196</td>\n",
              "      <td>-0.025563</td>\n",
              "      <td>1.000000</td>\n",
              "      <td>-0.159205</td>\n",
              "      <td>0.006963</td>\n",
              "      <td>-0.035706</td>\n",
              "      <td>0.039352</td>\n",
              "      <td>...</td>\n",
              "      <td>0.298528</td>\n",
              "      <td>-0.033137</td>\n",
              "      <td>-0.031753</td>\n",
              "      <td>0.680419</td>\n",
              "      <td>-0.027308</td>\n",
              "      <td>0.311309</td>\n",
              "      <td>0.216513</td>\n",
              "      <td>0.202089</td>\n",
              "      <td>0.000258</td>\n",
              "      <td>0.007020</td>\n",
              "    </tr>\n",
              "    <tr>\n",
              "      <th>Attrition</th>\n",
              "      <td>-0.101625</td>\n",
              "      <td>-0.103068</td>\n",
              "      <td>-0.062975</td>\n",
              "      <td>-0.015588</td>\n",
              "      <td>0.023403</td>\n",
              "      <td>-0.159205</td>\n",
              "      <td>1.000000</td>\n",
              "      <td>-0.009730</td>\n",
              "      <td>-0.015111</td>\n",
              "      <td>-0.018125</td>\n",
              "      <td>...</td>\n",
              "      <td>0.042232</td>\n",
              "      <td>0.032533</td>\n",
              "      <td>-0.006839</td>\n",
              "      <td>-0.170111</td>\n",
              "      <td>-0.049431</td>\n",
              "      <td>-0.134392</td>\n",
              "      <td>-0.033019</td>\n",
              "      <td>-0.156199</td>\n",
              "      <td>0.201688</td>\n",
              "      <td>-0.043517</td>\n",
              "    </tr>\n",
              "    <tr>\n",
              "      <th>DistanceFromHome</th>\n",
              "      <td>0.020113</td>\n",
              "      <td>-0.011213</td>\n",
              "      <td>0.008305</td>\n",
              "      <td>-0.001837</td>\n",
              "      <td>0.036418</td>\n",
              "      <td>0.006963</td>\n",
              "      <td>-0.009730</td>\n",
              "      <td>1.000000</td>\n",
              "      <td>-0.008638</td>\n",
              "      <td>0.044173</td>\n",
              "      <td>...</td>\n",
              "      <td>-0.013818</td>\n",
              "      <td>0.038125</td>\n",
              "      <td>0.011169</td>\n",
              "      <td>0.009361</td>\n",
              "      <td>-0.009001</td>\n",
              "      <td>0.031684</td>\n",
              "      <td>0.002290</td>\n",
              "      <td>0.021584</td>\n",
              "      <td>0.009429</td>\n",
              "      <td>-0.009141</td>\n",
              "    </tr>\n",
              "    <tr>\n",
              "      <th>Education</th>\n",
              "      <td>-0.045636</td>\n",
              "      <td>-0.004612</td>\n",
              "      <td>-0.005610</td>\n",
              "      <td>-0.018279</td>\n",
              "      <td>-0.035591</td>\n",
              "      <td>-0.035706</td>\n",
              "      <td>-0.015111</td>\n",
              "      <td>-0.008638</td>\n",
              "      <td>1.000000</td>\n",
              "      <td>0.016547</td>\n",
              "      <td>...</td>\n",
              "      <td>-0.016219</td>\n",
              "      <td>-0.040531</td>\n",
              "      <td>0.001261</td>\n",
              "      <td>-0.010712</td>\n",
              "      <td>0.010472</td>\n",
              "      <td>0.006080</td>\n",
              "      <td>0.022490</td>\n",
              "      <td>0.005358</td>\n",
              "      <td>0.002229</td>\n",
              "      <td>0.006927</td>\n",
              "    </tr>\n",
              "    <tr>\n",
              "      <th>Gender</th>\n",
              "      <td>0.023277</td>\n",
              "      <td>-0.015923</td>\n",
              "      <td>0.032373</td>\n",
              "      <td>-0.025768</td>\n",
              "      <td>-0.051586</td>\n",
              "      <td>0.039352</td>\n",
              "      <td>-0.018125</td>\n",
              "      <td>0.044173</td>\n",
              "      <td>0.016547</td>\n",
              "      <td>1.000000</td>\n",
              "      <td>...</td>\n",
              "      <td>0.066796</td>\n",
              "      <td>-0.011841</td>\n",
              "      <td>-0.019237</td>\n",
              "      <td>0.027571</td>\n",
              "      <td>0.030167</td>\n",
              "      <td>0.017277</td>\n",
              "      <td>0.021812</td>\n",
              "      <td>-0.004438</td>\n",
              "      <td>-0.003048</td>\n",
              "      <td>-0.000252</td>\n",
              "    </tr>\n",
              "    <tr>\n",
              "      <th>JobLevel</th>\n",
              "      <td>-0.024540</td>\n",
              "      <td>-0.018596</td>\n",
              "      <td>-0.027763</td>\n",
              "      <td>-0.012630</td>\n",
              "      <td>-0.002474</td>\n",
              "      <td>-0.002884</td>\n",
              "      <td>-0.010290</td>\n",
              "      <td>-0.037329</td>\n",
              "      <td>0.045746</td>\n",
              "      <td>0.026854</td>\n",
              "      <td>...</td>\n",
              "      <td>-0.009844</td>\n",
              "      <td>0.010973</td>\n",
              "      <td>0.000993</td>\n",
              "      <td>-0.036934</td>\n",
              "      <td>-0.032500</td>\n",
              "      <td>-0.064219</td>\n",
              "      <td>-0.060811</td>\n",
              "      <td>-0.055251</td>\n",
              "      <td>0.012559</td>\n",
              "      <td>0.010941</td>\n",
              "    </tr>\n",
              "    <tr>\n",
              "      <th>MonthlyIncome</th>\n",
              "      <td>-0.005747</td>\n",
              "      <td>0.004716</td>\n",
              "      <td>0.003705</td>\n",
              "      <td>0.023346</td>\n",
              "      <td>0.016093</td>\n",
              "      <td>-0.044314</td>\n",
              "      <td>-0.031176</td>\n",
              "      <td>-0.021607</td>\n",
              "      <td>0.006410</td>\n",
              "      <td>-0.007530</td>\n",
              "      <td>...</td>\n",
              "      <td>-0.020710</td>\n",
              "      <td>0.004325</td>\n",
              "      <td>0.026930</td>\n",
              "      <td>-0.033758</td>\n",
              "      <td>0.050112</td>\n",
              "      <td>0.000995</td>\n",
              "      <td>0.065219</td>\n",
              "      <td>0.024304</td>\n",
              "      <td>-0.012223</td>\n",
              "      <td>0.004751</td>\n",
              "    </tr>\n",
              "    <tr>\n",
              "      <th>NumCompaniesWorked</th>\n",
              "      <td>0.013133</td>\n",
              "      <td>-0.055701</td>\n",
              "      <td>-0.008891</td>\n",
              "      <td>0.027921</td>\n",
              "      <td>0.017802</td>\n",
              "      <td>0.298528</td>\n",
              "      <td>0.042232</td>\n",
              "      <td>-0.013818</td>\n",
              "      <td>-0.016219</td>\n",
              "      <td>0.066796</td>\n",
              "      <td>...</td>\n",
              "      <td>1.000000</td>\n",
              "      <td>0.030825</td>\n",
              "      <td>0.017130</td>\n",
              "      <td>0.238052</td>\n",
              "      <td>-0.032239</td>\n",
              "      <td>-0.117820</td>\n",
              "      <td>-0.036618</td>\n",
              "      <td>-0.109480</td>\n",
              "      <td>-0.014909</td>\n",
              "      <td>0.011344</td>\n",
              "    </tr>\n",
              "    <tr>\n",
              "      <th>PercentSalaryHike</th>\n",
              "      <td>0.000850</td>\n",
              "      <td>0.030626</td>\n",
              "      <td>-0.040305</td>\n",
              "      <td>-0.004658</td>\n",
              "      <td>0.773550</td>\n",
              "      <td>-0.033137</td>\n",
              "      <td>0.032533</td>\n",
              "      <td>0.038125</td>\n",
              "      <td>-0.040531</td>\n",
              "      <td>-0.011841</td>\n",
              "      <td>...</td>\n",
              "      <td>0.030825</td>\n",
              "      <td>1.000000</td>\n",
              "      <td>0.012548</td>\n",
              "      <td>-0.018717</td>\n",
              "      <td>-0.037392</td>\n",
              "      <td>-0.029707</td>\n",
              "      <td>-0.029542</td>\n",
              "      <td>-0.040864</td>\n",
              "      <td>0.029178</td>\n",
              "      <td>0.009710</td>\n",
              "    </tr>\n",
              "    <tr>\n",
              "      <th>StockOptionLevel</th>\n",
              "      <td>-0.004842</td>\n",
              "      <td>0.039757</td>\n",
              "      <td>-0.022701</td>\n",
              "      <td>0.010295</td>\n",
              "      <td>-0.036348</td>\n",
              "      <td>-0.031753</td>\n",
              "      <td>-0.006839</td>\n",
              "      <td>0.011169</td>\n",
              "      <td>0.001261</td>\n",
              "      <td>-0.019237</td>\n",
              "      <td>...</td>\n",
              "      <td>0.017130</td>\n",
              "      <td>0.012548</td>\n",
              "      <td>1.000000</td>\n",
              "      <td>0.002693</td>\n",
              "      <td>-0.069902</td>\n",
              "      <td>0.007886</td>\n",
              "      <td>0.019063</td>\n",
              "      <td>0.017757</td>\n",
              "      <td>-0.012894</td>\n",
              "      <td>-0.022115</td>\n",
              "    </tr>\n",
              "    <tr>\n",
              "      <th>TotalWorkingYears</th>\n",
              "      <td>-0.002451</td>\n",
              "      <td>-0.016620</td>\n",
              "      <td>0.001367</td>\n",
              "      <td>0.006696</td>\n",
              "      <td>-0.001394</td>\n",
              "      <td>0.680419</td>\n",
              "      <td>-0.170111</td>\n",
              "      <td>0.009361</td>\n",
              "      <td>-0.010712</td>\n",
              "      <td>0.027571</td>\n",
              "      <td>...</td>\n",
              "      <td>0.238052</td>\n",
              "      <td>-0.018717</td>\n",
              "      <td>0.002693</td>\n",
              "      <td>1.000000</td>\n",
              "      <td>-0.040705</td>\n",
              "      <td>0.626876</td>\n",
              "      <td>0.403995</td>\n",
              "      <td>0.458425</td>\n",
              "      <td>-0.012428</td>\n",
              "      <td>0.003818</td>\n",
              "    </tr>\n",
              "    <tr>\n",
              "      <th>TrainingTimesLastYear</th>\n",
              "      <td>0.017885</td>\n",
              "      <td>-0.021522</td>\n",
              "      <td>-0.014834</td>\n",
              "      <td>-0.010144</td>\n",
              "      <td>-0.022895</td>\n",
              "      <td>-0.027308</td>\n",
              "      <td>-0.049431</td>\n",
              "      <td>-0.009001</td>\n",
              "      <td>0.010472</td>\n",
              "      <td>0.030167</td>\n",
              "      <td>...</td>\n",
              "      <td>-0.032239</td>\n",
              "      <td>-0.037392</td>\n",
              "      <td>-0.069902</td>\n",
              "      <td>-0.040705</td>\n",
              "      <td>1.000000</td>\n",
              "      <td>-0.007894</td>\n",
              "      <td>0.016121</td>\n",
              "      <td>-0.013270</td>\n",
              "      <td>-0.008219</td>\n",
              "      <td>-0.002327</td>\n",
              "    </tr>\n",
              "    <tr>\n",
              "      <th>YearsAtCompany</th>\n",
              "      <td>0.000098</td>\n",
              "      <td>-0.002098</td>\n",
              "      <td>0.014343</td>\n",
              "      <td>0.008314</td>\n",
              "      <td>-0.011038</td>\n",
              "      <td>0.311309</td>\n",
              "      <td>-0.134392</td>\n",
              "      <td>0.031684</td>\n",
              "      <td>0.006080</td>\n",
              "      <td>0.017277</td>\n",
              "      <td>...</td>\n",
              "      <td>-0.117820</td>\n",
              "      <td>-0.029707</td>\n",
              "      <td>0.007886</td>\n",
              "      <td>0.626876</td>\n",
              "      <td>-0.007894</td>\n",
              "      <td>1.000000</td>\n",
              "      <td>0.618409</td>\n",
              "      <td>0.769212</td>\n",
              "      <td>-0.022558</td>\n",
              "      <td>0.001645</td>\n",
              "    </tr>\n",
              "    <tr>\n",
              "      <th>YearsSinceLastPromotion</th>\n",
              "      <td>0.015152</td>\n",
              "      <td>-0.016081</td>\n",
              "      <td>0.009389</td>\n",
              "      <td>0.025395</td>\n",
              "      <td>-0.020159</td>\n",
              "      <td>0.216513</td>\n",
              "      <td>-0.033019</td>\n",
              "      <td>0.002290</td>\n",
              "      <td>0.022490</td>\n",
              "      <td>0.021812</td>\n",
              "      <td>...</td>\n",
              "      <td>-0.036618</td>\n",
              "      <td>-0.029542</td>\n",
              "      <td>0.019063</td>\n",
              "      <td>0.403995</td>\n",
              "      <td>0.016121</td>\n",
              "      <td>0.618409</td>\n",
              "      <td>1.000000</td>\n",
              "      <td>0.510224</td>\n",
              "      <td>-0.010062</td>\n",
              "      <td>0.008042</td>\n",
              "    </tr>\n",
              "    <tr>\n",
              "      <th>YearsWithCurrManager</th>\n",
              "      <td>-0.006054</td>\n",
              "      <td>-0.024653</td>\n",
              "      <td>0.007358</td>\n",
              "      <td>-0.001372</td>\n",
              "      <td>-0.009426</td>\n",
              "      <td>0.202089</td>\n",
              "      <td>-0.156199</td>\n",
              "      <td>0.021584</td>\n",
              "      <td>0.005358</td>\n",
              "      <td>-0.004438</td>\n",
              "      <td>...</td>\n",
              "      <td>-0.109480</td>\n",
              "      <td>-0.040864</td>\n",
              "      <td>0.017757</td>\n",
              "      <td>0.458425</td>\n",
              "      <td>-0.013270</td>\n",
              "      <td>0.769212</td>\n",
              "      <td>0.510224</td>\n",
              "      <td>1.000000</td>\n",
              "      <td>-0.037261</td>\n",
              "      <td>-0.004100</td>\n",
              "    </tr>\n",
              "    <tr>\n",
              "      <th>Average hours worked</th>\n",
              "      <td>0.058744</td>\n",
              "      <td>0.015954</td>\n",
              "      <td>-0.030071</td>\n",
              "      <td>-0.020676</td>\n",
              "      <td>0.066911</td>\n",
              "      <td>0.000258</td>\n",
              "      <td>0.201688</td>\n",
              "      <td>0.009429</td>\n",
              "      <td>0.002229</td>\n",
              "      <td>-0.003048</td>\n",
              "      <td>...</td>\n",
              "      <td>-0.014909</td>\n",
              "      <td>0.029178</td>\n",
              "      <td>-0.012894</td>\n",
              "      <td>-0.012428</td>\n",
              "      <td>-0.008219</td>\n",
              "      <td>-0.022558</td>\n",
              "      <td>-0.010062</td>\n",
              "      <td>-0.037261</td>\n",
              "      <td>1.000000</td>\n",
              "      <td>-0.250367</td>\n",
              "    </tr>\n",
              "    <tr>\n",
              "      <th>Days off</th>\n",
              "      <td>-0.033371</td>\n",
              "      <td>-0.003319</td>\n",
              "      <td>-0.002912</td>\n",
              "      <td>0.014483</td>\n",
              "      <td>0.003642</td>\n",
              "      <td>0.007020</td>\n",
              "      <td>-0.043517</td>\n",
              "      <td>-0.009141</td>\n",
              "      <td>0.006927</td>\n",
              "      <td>-0.000252</td>\n",
              "      <td>...</td>\n",
              "      <td>0.011344</td>\n",
              "      <td>0.009710</td>\n",
              "      <td>-0.022115</td>\n",
              "      <td>0.003818</td>\n",
              "      <td>-0.002327</td>\n",
              "      <td>0.001645</td>\n",
              "      <td>0.008042</td>\n",
              "      <td>-0.004100</td>\n",
              "      <td>-0.250367</td>\n",
              "      <td>1.000000</td>\n",
              "    </tr>\n",
              "  </tbody>\n",
              "</table>\n",
              "<p>22 rows × 22 columns</p>\n",
              "</div>\n",
              "      <button class=\"colab-df-convert\" onclick=\"convertToInteractive('df-e30b8d52-34a0-48a9-9075-57b033af0ec1')\"\n",
              "              title=\"Convert this dataframe to an interactive table.\"\n",
              "              style=\"display:none;\">\n",
              "        \n",
              "  <svg xmlns=\"http://www.w3.org/2000/svg\" height=\"24px\"viewBox=\"0 0 24 24\"\n",
              "       width=\"24px\">\n",
              "    <path d=\"M0 0h24v24H0V0z\" fill=\"none\"/>\n",
              "    <path d=\"M18.56 5.44l.94 2.06.94-2.06 2.06-.94-2.06-.94-.94-2.06-.94 2.06-2.06.94zm-11 1L8.5 8.5l.94-2.06 2.06-.94-2.06-.94L8.5 2.5l-.94 2.06-2.06.94zm10 10l.94 2.06.94-2.06 2.06-.94-2.06-.94-.94-2.06-.94 2.06-2.06.94z\"/><path d=\"M17.41 7.96l-1.37-1.37c-.4-.4-.92-.59-1.43-.59-.52 0-1.04.2-1.43.59L10.3 9.45l-7.72 7.72c-.78.78-.78 2.05 0 2.83L4 21.41c.39.39.9.59 1.41.59.51 0 1.02-.2 1.41-.59l7.78-7.78 2.81-2.81c.8-.78.8-2.07 0-2.86zM5.41 20L4 18.59l7.72-7.72 1.47 1.35L5.41 20z\"/>\n",
              "  </svg>\n",
              "      </button>\n",
              "      \n",
              "  <style>\n",
              "    .colab-df-container {\n",
              "      display:flex;\n",
              "      flex-wrap:wrap;\n",
              "      gap: 12px;\n",
              "    }\n",
              "\n",
              "    .colab-df-convert {\n",
              "      background-color: #E8F0FE;\n",
              "      border: none;\n",
              "      border-radius: 50%;\n",
              "      cursor: pointer;\n",
              "      display: none;\n",
              "      fill: #1967D2;\n",
              "      height: 32px;\n",
              "      padding: 0 0 0 0;\n",
              "      width: 32px;\n",
              "    }\n",
              "\n",
              "    .colab-df-convert:hover {\n",
              "      background-color: #E2EBFA;\n",
              "      box-shadow: 0px 1px 2px rgba(60, 64, 67, 0.3), 0px 1px 3px 1px rgba(60, 64, 67, 0.15);\n",
              "      fill: #174EA6;\n",
              "    }\n",
              "\n",
              "    [theme=dark] .colab-df-convert {\n",
              "      background-color: #3B4455;\n",
              "      fill: #D2E3FC;\n",
              "    }\n",
              "\n",
              "    [theme=dark] .colab-df-convert:hover {\n",
              "      background-color: #434B5C;\n",
              "      box-shadow: 0px 1px 3px 1px rgba(0, 0, 0, 0.15);\n",
              "      filter: drop-shadow(0px 1px 2px rgba(0, 0, 0, 0.3));\n",
              "      fill: #FFFFFF;\n",
              "    }\n",
              "  </style>\n",
              "\n",
              "      <script>\n",
              "        const buttonEl =\n",
              "          document.querySelector('#df-e30b8d52-34a0-48a9-9075-57b033af0ec1 button.colab-df-convert');\n",
              "        buttonEl.style.display =\n",
              "          google.colab.kernel.accessAllowed ? 'block' : 'none';\n",
              "\n",
              "        async function convertToInteractive(key) {\n",
              "          const element = document.querySelector('#df-e30b8d52-34a0-48a9-9075-57b033af0ec1');\n",
              "          const dataTable =\n",
              "            await google.colab.kernel.invokeFunction('convertToInteractive',\n",
              "                                                     [key], {});\n",
              "          if (!dataTable) return;\n",
              "\n",
              "          const docLinkHtml = 'Like what you see? Visit the ' +\n",
              "            '<a target=\"_blank\" href=https://colab.research.google.com/notebooks/data_table.ipynb>data table notebook</a>'\n",
              "            + ' to learn more about interactive tables.';\n",
              "          element.innerHTML = '';\n",
              "          dataTable['output_type'] = 'display_data';\n",
              "          await google.colab.output.renderOutput(dataTable, element);\n",
              "          const docLink = document.createElement('div');\n",
              "          docLink.innerHTML = docLinkHtml;\n",
              "          element.appendChild(docLink);\n",
              "        }\n",
              "      </script>\n",
              "    </div>\n",
              "  </div>\n",
              "  "
            ]
          },
          "metadata": {},
          "execution_count": 198
        }
      ]
    },
    {
      "cell_type": "code",
      "source": [
        "#from the correlation we see the low correlation between columns with others \n",
        "# Attrition & EnvironmentSatifaction nearby-0.5\n",
        "# Attrition & Total workin years nearby-0.5\n",
        "# Attrition & work life balance nearby-0.5\n",
        "# Attrition & Age nearby-0.5\n",
        "# Attrition & Year with current Manager nearby-0.5\n",
        "# Attrition & Year at company nearby-0.5\n",
        "# let's try with the next 2 and try when remove it\n",
        "# Attrition & Year scine last promotion nearby-0.5\n",
        "# Attrition & training time last year nearby-0.5\n"
      ],
      "metadata": {
        "id": "BMerjSxI2d45"
      },
      "execution_count": 199,
      "outputs": []
    },
    {
      "cell_type": "code",
      "source": [
        "#Merge_WH_ALLData.drop(['EnvironmentSatisfaction','TrainingTimesLastYear','YearsSinceLastPromotion','TotalWorkingYears','Age','YearsAtCompany','YearsWithCurrManager','WorkLifeBalance'],axis=1,inplace=True)"
      ],
      "metadata": {
        "id": "0V2LiHuW3spe"
      },
      "execution_count": 200,
      "outputs": []
    },
    {
      "cell_type": "code",
      "source": [
        "Data=transformed_df\n",
        "X=Data.drop(['Attrition'],axis=1)\n",
        "Y=Data['Attrition']\n",
        "X_train, X_test, Y_train, Y_test = train_test_split(X, Y, test_size = 0.25, random_state = 42)\n",
        "print(\"Train Shape\",X_train.shape)\n",
        "print(\"Test Shape\",X_test.shape)"
      ],
      "metadata": {
        "colab": {
          "base_uri": "https://localhost:8080/"
        },
        "id": "ZGctIEidXx9H",
        "outputId": "a48e134f-135d-4dab-d569-28b6b56d5f6c"
      },
      "execution_count": 201,
      "outputs": [
        {
          "output_type": "stream",
          "name": "stdout",
          "text": [
            "Train Shape (3307, 45)\n",
            "Test Shape (1103, 45)\n"
          ]
        }
      ]
    },
    {
      "cell_type": "code",
      "source": [
        "# show the accuracy in the train data\n",
        "Accuracy_Score=[]\n",
        "Level=[]\n",
        "\n",
        "for i in range(1,19):\n",
        "    Start_time = time.time()\n",
        "    Dectree_model_train = DecisionTreeClassifier(max_depth = i).fit(X_train, Y_train)\n",
        "    End_time = time.time()\n",
        "    #prediction for X_Train\n",
        "    Y_Pred_train = Dectree_model_train.predict(X_train)\n",
        "    #print(Y_Pred)\n",
        "    # show the Accuracy of Y_train with Y_predaction\n",
        "    Accuracy_Score.append(accuracy_score(Y_train, Y_Pred_train))\n",
        "    Level.append(i)\n",
        "print(\"Time to fit Model\", (End_time-Start_time))    \n",
        "plt.plot(Level,Accuracy_Score,color = 'black', label = 'Accuracy curve')\n",
        "plt.xticks(Level)\n",
        "plt.xlabel('Max depth')\n",
        "plt.ylabel('Accuracy')\n",
        "plt.legend()\n",
        "\n"
      ],
      "metadata": {
        "colab": {
          "base_uri": "https://localhost:8080/",
          "height": 315
        },
        "id": "0J50S2ETNVsJ",
        "outputId": "5e2a6f97-e11e-4538-fdd7-5db725686166"
      },
      "execution_count": 202,
      "outputs": [
        {
          "output_type": "stream",
          "name": "stdout",
          "text": [
            "Time to fit Model 0.030970096588134766\n"
          ]
        },
        {
          "output_type": "execute_result",
          "data": {
            "text/plain": [
              "<matplotlib.legend.Legend at 0x7f83e62fcc90>"
            ]
          },
          "metadata": {},
          "execution_count": 202
        },
        {
          "output_type": "display_data",
          "data": {
            "text/plain": [
              "<Figure size 432x288 with 1 Axes>"
            ],
            "image/png": "[encoded data removed]"
          },
          "metadata": {
            "needs_background": "light"
          }
        }
      ]
    },
    {
      "cell_type": "code",
      "source": [
        "#show the accuracy in test data\n",
        "accuracy=[]\n",
        "Level=[]\n",
        "\n",
        "for i in range(1,19):\n",
        "    Start_time = time.time()\n",
        "    Dectree_model = DecisionTreeClassifier(max_depth = i).fit(X_train, Y_train)\n",
        "    End_time = time.time()\n",
        "    #prediction for X_Test\n",
        "    Y_Pred = Dectree_model.predict(X_test)\n",
        "    #print(Y_Pred)\n",
        "    # show the Accuracy of Y_Test with Y_predaction\n",
        "    accuracy.append(accuracy_score(Y_test, Y_Pred))\n",
        "    Level.append(i)\n",
        "print(\"Time to fit Model\", (End_time-Start_time))    \n",
        "plt.plot(Level,accuracy,color = 'black', label = 'Accuracy curve')\n",
        "plt.xticks(Level)\n",
        "plt.xlabel('Max depth')\n",
        "plt.ylabel('Accuracy')\n",
        "plt.legend()\n"
      ],
      "metadata": {
        "colab": {
          "base_uri": "https://localhost:8080/",
          "height": 315
        },
        "id": "YzmA5sx9alMg",
        "outputId": "591a37fc-8c07-4ff7-f8c3-c9190b345493"
      },
      "execution_count": 203,
      "outputs": [
        {
          "output_type": "stream",
          "name": "stdout",
          "text": [
            "Time to fit Model 0.030791282653808594\n"
          ]
        },
        {
          "output_type": "execute_result",
          "data": {
            "text/plain": [
              "<matplotlib.legend.Legend at 0x7f83f6ba4110>"
            ]
          },
          "metadata": {},
          "execution_count": 203
        },
        {
          "output_type": "display_data",
          "data": {
            "text/plain": [
              "<Figure size 432x288 with 1 Axes>"
            ],
            "image/png": "[encoded data removed]"
          },
          "metadata": {
            "needs_background": "light"
          }
        }
      ]
    },
    {
      "cell_type": "code",
      "source": [
        "# From the pervious graph we show the max depth and the accuracy so \n",
        "# now we can choose the suitable depth to get max accuracy \n",
        "for i in range(1,19):\n",
        "    Start_time = time.time()\n",
        "    Dectree_model = DecisionTreeClassifier(max_depth = i).fit(X_train, Y_train)\n",
        "    End_time = time.time()\n",
        "    Y_Pred = Dectree_model.predict(X_test)\n",
        "    print(\"Accuracy with each level = \",i,\"is: \",accuracy_score(Y_test, Y_Pred))\n",
        "Time=End_time-Start_time\n",
        "print(\"Time Take to fit the model\" , Time)\n"
      ],
      "metadata": {
        "colab": {
          "base_uri": "https://localhost:8080/"
        },
        "id": "A2cXwICndGI_",
        "outputId": "011ee52d-af97-4217-e531-3b1f1e999675"
      },
      "execution_count": 204,
      "outputs": [
        {
          "output_type": "stream",
          "name": "stdout",
          "text": [
            "Accuracy with each level =  1 is:  0.8476881233000907\n",
            "Accuracy with each level =  2 is:  0.8395285584768812\n",
            "Accuracy with each level =  3 is:  0.8594741613780599\n",
            "Accuracy with each level =  4 is:  0.8504079782411604\n",
            "Accuracy with each level =  5 is:  0.8694469628286491\n",
            "Accuracy with each level =  6 is:  0.8712601994560291\n",
            "Accuracy with each level =  7 is:  0.9011786038077969\n",
            "Accuracy with each level =  8 is:  0.900271985494107\n",
            "Accuracy with each level =  9 is:  0.9220308250226654\n",
            "Accuracy with each level =  10 is:  0.9419764279238441\n",
            "Accuracy with each level =  11 is:  0.9446962828649139\n",
            "Accuracy with each level =  12 is:  0.9528558476881233\n",
            "Accuracy with each level =  13 is:  0.9646418857660924\n",
            "Accuracy with each level =  14 is:  0.9664551223934723\n",
            "Accuracy with each level =  15 is:  0.9755213055303718\n",
            "Accuracy with each level =  16 is:  0.9755213055303718\n",
            "Accuracy with each level =  17 is:  0.9755213055303718\n",
            "Accuracy with each level =  18 is:  0.9791477787851315\n",
            "Time Take to fit the model 0.031217575073242188\n"
          ]
        }
      ]
    },
    {
      "cell_type": "code",
      "source": [
        "#improve the tuning parameters \n",
        "# The number of features to consider when looking for the best split:\n",
        "l=['sqrt','log2','auto']\n",
        "for feat in l:\n",
        "    Dectree_model = DecisionTreeClassifier(max_depth = 19,max_features=feat).fit(X_train, Y_train)\n",
        "    Y_Pred = Dectree_model.predict(X_test)\n",
        "    print(\"Accuracy with max_features = \",feat,\"is: \",accuracy_score(Y_test, Y_Pred))"
      ],
      "metadata": {
        "colab": {
          "base_uri": "https://localhost:8080/"
        },
        "id": "xH3r9tc5dzT2",
        "outputId": "8421867b-fdad-4c30-e67b-57b1630c1c70"
      },
      "execution_count": 205,
      "outputs": [
        {
          "output_type": "stream",
          "name": "stdout",
          "text": [
            "Accuracy with max_features =  sqrt is:  0.9655485040797824\n",
            "Accuracy with max_features =  log2 is:  0.9673617407071623\n",
            "Accuracy with max_features =  auto is:  0.9764279238440616\n"
          ]
        }
      ]
    },
    {
      "cell_type": "code",
      "source": [
        "Dectree_model = DecisionTreeClassifier(max_depth = 19,max_features='sqrt').fit(X_train, Y_train)\n",
        "Train_Y_pred = Dectree_model.predict(X_train)\n",
        "score=accuracy_score(Y_train,Train_Y_pred)\n",
        "print(score)"
      ],
      "metadata": {
        "colab": {
          "base_uri": "https://localhost:8080/"
        },
        "id": "NzqPeM3MPNre",
        "outputId": "d8e05d8d-4ef8-4e63-fe06-6452e3df6707"
      },
      "execution_count": 206,
      "outputs": [
        {
          "output_type": "stream",
          "name": "stdout",
          "text": [
            "1.0\n"
          ]
        }
      ]
    },
    {
      "cell_type": "code",
      "source": [
        "Dectree_model = DecisionTreeClassifier(max_depth = 19,max_features='sqrt').fit(X_train, Y_train)\n",
        "Y_Pred = Dectree_model.predict(X_test)\n",
        "score=accuracy_score(Y_test,Y_Pred)\n",
        "print(score)"
      ],
      "metadata": {
        "colab": {
          "base_uri": "https://localhost:8080/"
        },
        "id": "VQfcYtluPXoL",
        "outputId": "ad4f087c-3b83-4ff7-dcf8-7795909e4536"
      },
      "execution_count": 207,
      "outputs": [
        {
          "output_type": "stream",
          "name": "stdout",
          "text": [
            "0.971894832275612\n"
          ]
        }
      ]
    },
    {
      "cell_type": "code",
      "source": [
        "Dectree_model = DecisionTreeClassifier(max_depth = 19,max_features='auto').fit(X_train, Y_train)\n",
        "Y_Pred = Dectree_model.predict(X_test)\n",
        "score=accuracy_score(Y_test,Y_Pred)\n",
        "print(score)"
      ],
      "metadata": {
        "colab": {
          "base_uri": "https://localhost:8080/"
        },
        "id": "52YzJlCWP6Sr",
        "outputId": "58116dc8-7259-4db8-817b-4789d4e5e610"
      },
      "execution_count": 208,
      "outputs": [
        {
          "output_type": "stream",
          "name": "stdout",
          "text": [
            "0.9664551223934723\n"
          ]
        }
      ]
    }
  ]
}